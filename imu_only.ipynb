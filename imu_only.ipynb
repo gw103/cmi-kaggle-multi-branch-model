{
  "cells": [
    {
      "cell_type": "code",
      "execution_count": null,
      "metadata": {
        "colab": {
          "base_uri": "https://localhost:8080/"
        },
        "id": "Y2WCE3OKP1VD",
        "outputId": "d8d6ad27-e59c-4a26-93fa-85f4b4c18511"
      },
      "outputs": [
        {
          "output_type": "stream",
          "name": "stdout",
          "text": [
            "Mounted at /content/drive\n"
          ]
        }
      ],
      "source": [
        "from google.colab import drive\n",
        "drive.mount('/content/drive')"
      ]
    },
    {
      "cell_type": "code",
      "source": [
        "#\n",
        "import os\n",
        "import pandas as pd\n",
        "import numpy as np\n",
        "from scipy.spatial.transform import Rotation as R\n",
        "from sklearn.model_selection import StratifiedGroupKFold\n",
        "from sklearn.metrics import f1_score\n",
        "import torch\n",
        "import torch.nn as nn\n",
        "import torch.nn.functional as F\n",
        "from torch.utils.data import Dataset, DataLoader\n",
        "import random\n",
        "from tqdm import tqdm\n",
        "\n",
        "# --- Feature Engineering Functions ---\n",
        "def remove_gravity_from_acc(acc_data, rot_data):\n",
        "    \"\"\"Remove gravity component from accelerometer data\"\"\"\n",
        "    if isinstance(acc_data, pd.DataFrame):\n",
        "        acc_values = acc_data[['acc_x', 'acc_y', 'acc_z']].values\n",
        "    else:\n",
        "        acc_values = acc_data\n",
        "\n",
        "    if isinstance(rot_data, pd.DataFrame):\n",
        "        quat_values = rot_data[['rot_x', 'rot_y', 'rot_z', 'rot_w']].values\n",
        "    else:\n",
        "        quat_values = rot_data\n",
        "\n",
        "    num_samples = acc_values.shape[0]\n",
        "    linear_accel = np.zeros_like(acc_values)\n",
        "    gravity_world = np.array([0, 0, 9.802])\n",
        "\n",
        "    for i in range(num_samples):\n",
        "        if np.all(np.isnan(quat_values[i])) or np.all(np.isclose(quat_values[i], 0)):\n",
        "            linear_accel[i, :] = acc_values[i, :]\n",
        "            continue\n",
        "\n",
        "        try:\n",
        "            rotation = R.from_quat(quat_values[i])\n",
        "            gravity_sensor_frame = rotation.apply(gravity_world, inverse=True)\n",
        "            linear_accel[i, :] = acc_values[i, :] - gravity_sensor_frame\n",
        "        except ValueError:\n",
        "            linear_accel[i, :] = acc_values[i, :]\n",
        "\n",
        "    return linear_accel.astype(np.float32)\n",
        "\n",
        "def calculate_angular_velocity_from_quat(rot_data, time_delta=1/200):\n",
        "    \"\"\"Calculate angular velocity from quaternion derivatives\"\"\"\n",
        "    if isinstance(rot_data, pd.DataFrame):\n",
        "        quat_values = rot_data[['rot_x', 'rot_y', 'rot_z', 'rot_w']].values\n",
        "    else:\n",
        "        quat_values = rot_data\n",
        "\n",
        "    num_samples = quat_values.shape[0]\n",
        "    angular_vel = np.zeros((num_samples, 3))\n",
        "\n",
        "    for i in range(num_samples - 1):\n",
        "        q_t = quat_values[i]\n",
        "        q_t_plus_dt = quat_values[i+1]\n",
        "\n",
        "        if np.all(np.isnan(q_t)) or np.all(np.isclose(q_t, 0)) or \\\n",
        "           np.all(np.isnan(q_t_plus_dt)) or np.all(np.isclose(q_t_plus_dt, 0)):\n",
        "            continue\n",
        "\n",
        "        try:\n",
        "            rot_t = R.from_quat(q_t)\n",
        "            rot_t_plus_dt = R.from_quat(q_t_plus_dt)\n",
        "            delta_rot = rot_t.inv() * rot_t_plus_dt\n",
        "            angular_vel[i, :] = delta_rot.as_rotvec() / time_delta\n",
        "        except ValueError:\n",
        "            pass\n",
        "\n",
        "    return angular_vel.astype(np.float32)\n",
        "\n",
        "def calculate_angular_distance(rot_data):\n",
        "    \"\"\"Calculate angular distance between successive quaternions\"\"\"\n",
        "    if isinstance(rot_data, pd.DataFrame):\n",
        "        quat_values = rot_data[['rot_x', 'rot_y', 'rot_z', 'rot_w']].values\n",
        "    else:\n",
        "        quat_values = rot_data\n",
        "\n",
        "    num_samples = quat_values.shape[0]\n",
        "    angular_dist = np.zeros(num_samples)\n",
        "\n",
        "    for i in range(num_samples - 1):\n",
        "        q1 = quat_values[i]\n",
        "        q2 = quat_values[i+1]\n",
        "\n",
        "        if np.all(np.isnan(q1)) or np.all(np.isclose(q1, 0)) or \\\n",
        "           np.all(np.isnan(q2)) or np.all(np.isclose(q2, 0)):\n",
        "            angular_dist[i] = 0\n",
        "            continue\n",
        "\n",
        "        try:\n",
        "            r1 = R.from_quat(q1)\n",
        "            r2 = R.from_quat(q2)\n",
        "            relative_rotation = r1.inv() * r2\n",
        "            angle = np.linalg.norm(relative_rotation.as_rotvec())\n",
        "            angular_dist[i] = angle\n",
        "        except ValueError:\n",
        "            angular_dist[i] = 0\n",
        "\n",
        "    return angular_dist.astype(np.float32)\n",
        "\n",
        "# --- Simple Improved Model ---\n",
        "class ImprovedCNNIMUModel(nn.Module):\n",
        "    \"\"\"Improved CNN with GELU activation - often better than ReLU for deep networks\"\"\"\n",
        "    def __init__(self, input_dim, num_classes, dropout_rate=0.25):\n",
        "        super().__init__()\n",
        "\n",
        "        # Better feature MLP with progressive dropout\n",
        "        self.feature_mlp = nn.Sequential(\n",
        "            nn.Linear(input_dim, 128),\n",
        "            nn.BatchNorm1d(128),\n",
        "            nn.GELU(),  # GELU activation\n",
        "            nn.Dropout(dropout_rate * 0.4),\n",
        "\n",
        "            nn.Linear(128, 256),\n",
        "            nn.BatchNorm1d(256),\n",
        "            nn.GELU(),  # GELU activation\n",
        "            nn.Dropout(dropout_rate * 0.6),\n",
        "\n",
        "            nn.Linear(256, 256),\n",
        "            nn.BatchNorm1d(256),\n",
        "            nn.GELU()  # GELU activation\n",
        "        )\n",
        "\n",
        "        # Improved temporal convolutions with 1D dropout\n",
        "        self.temporal_conv = nn.Sequential(\n",
        "            nn.Conv1d(256, 256, kernel_size=3, stride=1, padding=1),\n",
        "            nn.BatchNorm1d(256),\n",
        "            nn.GELU(),  # GELU activation\n",
        "            nn.Dropout1d(dropout_rate * 0.3),\n",
        "\n",
        "            nn.Conv1d(256, 256, kernel_size=3, padding=1),\n",
        "            nn.BatchNorm1d(256),\n",
        "            nn.GELU(),  # GELU activation\n",
        "            nn.Dropout1d(dropout_rate * 0.5)\n",
        "        )\n",
        "\n",
        "        # Multi-scale feature extraction\n",
        "        self.multi_scale = nn.ModuleList([\n",
        "            nn.Sequential(\n",
        "                nn.Conv1d(256, 64, kernel_size=3, padding=1),\n",
        "                nn.BatchNorm1d(64),\n",
        "                nn.GELU()  # GELU activation\n",
        "            ),\n",
        "            nn.Sequential(\n",
        "                nn.Conv1d(256, 64, kernel_size=5, padding=2),\n",
        "                nn.BatchNorm1d(64),\n",
        "                nn.GELU()  # GELU activation\n",
        "            ),\n",
        "            nn.Sequential(\n",
        "                nn.Conv1d(256, 64, kernel_size=7, padding=3),\n",
        "                nn.BatchNorm1d(64),\n",
        "                nn.GELU()  # GELU activation\n",
        "            ),\n",
        "            nn.Sequential(\n",
        "                nn.Conv1d(256, 64, kernel_size=11, padding=5),\n",
        "                nn.BatchNorm1d(64),\n",
        "                nn.GELU()  # GELU activation\n",
        "            )\n",
        "        ])\n",
        "\n",
        "        # Bottleneck\n",
        "        self.bottleneck = nn.Sequential(\n",
        "            nn.Conv1d(256, 512, kernel_size=3, padding=1),\n",
        "            nn.BatchNorm1d(512),\n",
        "            nn.GELU(),  # GELU activation\n",
        "            nn.Dropout1d(dropout_rate * 0.5)\n",
        "        )\n",
        "\n",
        "        # Enhanced pyramid pooling\n",
        "        self.pyramid_pool = nn.ModuleList([\n",
        "            nn.AdaptiveAvgPool1d(1),\n",
        "            nn.AdaptiveAvgPool1d(2),\n",
        "            nn.AdaptiveAvgPool1d(4),\n",
        "            nn.AdaptiveMaxPool1d(1)\n",
        "        ])\n",
        "\n",
        "        # Improved classifier\n",
        "        self.classifier = nn.Sequential(\n",
        "            nn.Linear(512 * 8, 512),\n",
        "            nn.BatchNorm1d(512),\n",
        "            nn.GELU(),  # GELU activation\n",
        "            nn.Dropout(dropout_rate),\n",
        "\n",
        "            nn.Linear(512, 256),\n",
        "            nn.BatchNorm1d(256),\n",
        "            nn.GELU(),  # GELU activation\n",
        "            nn.Dropout(dropout_rate * 0.8),\n",
        "\n",
        "            nn.Linear(256, num_classes)\n",
        "        )\n",
        "\n",
        "    def forward(self, x, lengths):\n",
        "        batch_size, seq_len, feat_dim = x.shape\n",
        "\n",
        "        # Feature transformation\n",
        "        x_reshaped = x.view(-1, feat_dim)\n",
        "        x_transformed = self.feature_mlp(x_reshaped)\n",
        "        x = x_transformed.view(batch_size, seq_len, -1).transpose(1, 2)\n",
        "\n",
        "        # Temporal feature extraction\n",
        "        x = self.temporal_conv(x)\n",
        "\n",
        "        # Multi-scale temporal feature extraction\n",
        "        scale_features = []\n",
        "        for conv in self.multi_scale:\n",
        "            scale_features.append(conv(x))\n",
        "        x = torch.cat(scale_features, dim=1)\n",
        "\n",
        "        # Bottleneck\n",
        "        x = self.bottleneck(x)\n",
        "\n",
        "        # Masking for variable length sequences\n",
        "        max_time = x.size(2)\n",
        "        mask = torch.arange(max_time, device=x.device)[None, :] < lengths[:, None]\n",
        "        mask = mask.unsqueeze(1).float()\n",
        "        x = x * mask\n",
        "\n",
        "        # Enhanced pyramid pooling\n",
        "        pyramid_features = []\n",
        "        for pool in self.pyramid_pool:\n",
        "            pooled = pool(x)\n",
        "            pooled = pooled.view(pooled.size(0), -1)\n",
        "            pyramid_features.append(pooled)\n",
        "\n",
        "        # Combine features\n",
        "        features = torch.cat(pyramid_features, dim=1)\n",
        "\n",
        "        # Classification\n",
        "        return self.classifier(features)\n",
        "\n",
        "# --- Data Augmentation (Original) ---\n",
        "class Augmenter:\n",
        "    def __init__(self, scale_range=(0.9, 1.1), noise_std=0.02, flip_prob=0.5):\n",
        "        self.scale_range = scale_range\n",
        "        self.noise_std = noise_std\n",
        "        self.flip_prob = flip_prob\n",
        "\n",
        "    def apply_augmentations(self, data):\n",
        "        data = data.astype(np.float32)\n",
        "\n",
        "        if self.scale_range is not None:\n",
        "            scale = np.random.uniform(self.scale_range[0], self.scale_range[1])\n",
        "            data = data * scale\n",
        "\n",
        "        if self.noise_std is not None:\n",
        "            noise = np.random.normal(0, self.noise_std, data.shape).astype(np.float32)\n",
        "            data = data + noise\n",
        "\n",
        "        if self.flip_prob is not None:\n",
        "            if np.random.rand() < self.flip_prob:\n",
        "                data = np.flip(data, axis=0).copy()\n",
        "\n",
        "        return data.astype(np.float32)\n",
        "\n",
        "class IMUDataset(Dataset):\n",
        "    def __init__(self, df, feat_cols, label_map, augment=False):\n",
        "        self.samples = []\n",
        "        self.feat_cols = feat_cols\n",
        "        self.label_map = label_map\n",
        "        self.augment = augment\n",
        "        self.augmenter = Augmenter() if augment else None\n",
        "\n",
        "        for sid, group in df.groupby('sequence_id'):\n",
        "            arr = group[feat_cols].values.astype(np.float32)\n",
        "            length = arr.shape[0]\n",
        "            gesture = group['gesture'].iloc[0]\n",
        "\n",
        "            self.samples.append({\n",
        "                'data': arr,\n",
        "                'length': length,\n",
        "                'label': label_map[gesture],\n",
        "                'gesture': gesture,\n",
        "                'sequence_id': sid\n",
        "            })\n",
        "\n",
        "        if augment:\n",
        "            self.gesture_map = {}\n",
        "            for sample in self.samples:\n",
        "                gesture = sample['gesture']\n",
        "                self.gesture_map.setdefault(gesture, []).append(sample)\n",
        "\n",
        "    def __len__(self):\n",
        "        if not self.augment:\n",
        "            return len(self.samples)\n",
        "        return int(len(self.samples) * 3)\n",
        "\n",
        "    def __getitem__(self, idx):\n",
        "        n = len(self.samples)\n",
        "\n",
        "        if not self.augment:\n",
        "            sample = self.samples[idx]\n",
        "            return (\n",
        "                torch.from_numpy(sample['data']),\n",
        "                sample['length'],\n",
        "                sample['label']\n",
        "            )\n",
        "\n",
        "        base_idx = idx % n\n",
        "        sample_type = idx // n\n",
        "\n",
        "        if sample_type == 0:\n",
        "            sample = self.samples[base_idx]\n",
        "            data = sample['data'].copy()\n",
        "            if self.augmenter:\n",
        "                data = self.augmenter.apply_augmentations(data)\n",
        "            return (\n",
        "                torch.from_numpy(data),\n",
        "                sample['length'],\n",
        "                sample['label']\n",
        "            )\n",
        "\n",
        "        elif sample_type == 1:\n",
        "            base_sample = self.samples[base_idx]\n",
        "            gesture = base_sample['gesture']\n",
        "            candidates = self.gesture_map.get(gesture, [])\n",
        "\n",
        "            if len(candidates) < 4:\n",
        "                data = base_sample['data'].copy()\n",
        "                if self.augmenter:\n",
        "                    data = self.augmenter.apply_augmentations(data)\n",
        "                return (\n",
        "                    torch.from_numpy(data),\n",
        "                    base_sample['length'],\n",
        "                    base_sample['label']\n",
        "                )\n",
        "\n",
        "            partner = random.choice(candidates)\n",
        "            while partner['sequence_id'] == base_sample['sequence_id']:\n",
        "                partner = random.choice(candidates)\n",
        "\n",
        "            lam = np.random.beta(0.4, 0.4)\n",
        "            min_len = min(base_sample['length'], partner['length'])\n",
        "            base_data = base_sample['data'][:min_len].astype(np.float32)\n",
        "            part_data = partner['data'][:min_len].astype(np.float32)\n",
        "            mixed = (lam * base_data + (1 - lam) * part_data).astype(np.float32)\n",
        "\n",
        "            return (\n",
        "                torch.from_numpy(mixed),\n",
        "                min_len,\n",
        "                base_sample['label']\n",
        "            )\n",
        "\n",
        "        else:\n",
        "            sample = self.samples[base_idx]\n",
        "            data = sample['data'].copy()\n",
        "            data = self.augmenter.apply_augmentations(data)\n",
        "            return (\n",
        "                torch.from_numpy(data),\n",
        "                sample['length'],\n",
        "                sample['label']\n",
        "            )\n",
        "\n",
        "def collate_fn(batch):\n",
        "    feats, lens, lbls = zip(*batch)\n",
        "    lens = torch.tensor(lens, dtype=torch.long)\n",
        "    lbls = torch.tensor(lbls, dtype=torch.long)\n",
        "    padded = nn.utils.rnn.pad_sequence(feats, batch_first=True)\n",
        "    return padded, lens, lbls\n",
        "\n",
        "# --- Training Functions ---\n",
        "def train_one_epoch_improved(model, loader, optimizer, device):\n",
        "    \"\"\"Improved training function with label smoothing\"\"\"\n",
        "    model.train()\n",
        "    total_loss = 0.0\n",
        "\n",
        "    # Label smoothing for better generalization\n",
        "    criterion = nn.CrossEntropyLoss(label_smoothing=0.1)\n",
        "\n",
        "    for x, lengths, y in tqdm(loader, desc=\"Training\"):\n",
        "        x = x.float().to(device)\n",
        "        lengths = lengths.to(device)\n",
        "        y = y.to(device)\n",
        "\n",
        "        optimizer.zero_grad()\n",
        "        out = model(x, lengths)\n",
        "        loss = criterion(out, y)\n",
        "        loss.backward()\n",
        "\n",
        "        # Gradient clipping\n",
        "        torch.nn.utils.clip_grad_norm_(model.parameters(), max_norm=1.0)\n",
        "        optimizer.step()\n",
        "\n",
        "        total_loss += loss.item() * x.size(0)\n",
        "\n",
        "    return total_loss / len(loader.dataset)\n",
        "\n",
        "def evaluate_improved(model, loader, device, non_target_idxs):\n",
        "    \"\"\"Same evaluation function\"\"\"\n",
        "    model.eval()\n",
        "    preds, trues = [], []\n",
        "\n",
        "    with torch.no_grad():\n",
        "        for x, lengths, y in loader:\n",
        "            x = x.float().to(device)\n",
        "            lengths = lengths.to(device)\n",
        "            out = model(x, lengths)\n",
        "            p = out.argmax(1).cpu().numpy()\n",
        "            preds.append(p)\n",
        "            trues.append(y.numpy())\n",
        "\n",
        "    preds = np.concatenate(preds)\n",
        "    trues = np.concatenate(trues)\n",
        "\n",
        "    # Binary F1\n",
        "    true_bin = ~np.isin(trues, non_target_idxs)\n",
        "    pred_bin = ~np.isin(preds, non_target_idxs)\n",
        "    binary_f1 = f1_score(true_bin, pred_bin)\n",
        "\n",
        "    # Macro F1\n",
        "    new_non_target_label = np.max(trues) + 1\n",
        "    trues_collapsed = np.where(np.isin(trues, non_target_idxs), new_non_target_label, trues)\n",
        "    preds_collapsed = np.where(np.isin(preds, non_target_idxs), new_non_target_label, preds)\n",
        "\n",
        "    macro_f1 = f1_score(trues_collapsed, preds_collapsed, average='macro',\n",
        "                       labels=np.unique(trues_collapsed))\n",
        "\n",
        "    return binary_f1, macro_f1"
      ],
      "metadata": {
        "id": "sLplkUzY5_iZ"
      },
      "execution_count": null,
      "outputs": []
    },
    {
      "cell_type": "code",
      "source": [
        "\n",
        "    # Load data\n",
        "train_csv = '/content/drive/MyDrive/cmi-detect-behavior-with-sensor-data/train.csv'\n",
        "print(\"Loading and cleaning data...\")\n",
        "df = pd.read_csv(train_csv)\n",
        "df.sort_values(['sequence_id', 'sequence_counter'], inplace=True)\n",
        "\n",
        "# Replace NaN values with 0 in rotation columns\n",
        "rotation_cols = ['rot_x', 'rot_y', 'rot_z', 'rot_w']\n",
        "df[rotation_cols] = df[rotation_cols].fillna(0)\n",
        "\n",
        "# Define initial IMU columns\n",
        "initial_imu_cols = ['acc_x', 'acc_y', 'acc_z', 'rot_x', 'rot_y', 'rot_z', 'rot_w']\n",
        "\n",
        "# --- Feature Engineering ---\n",
        "print(\"Calculating engineered features...\")\n",
        "\n",
        "# Base features\n",
        "df['acc_mag'] = np.sqrt(df['acc_x']**2 + df['acc_y']**2 + df['acc_z']**2).astype(np.float32)\n",
        "df['rot_angle'] = (2 * np.arccos(df['rot_w'].clip(-1, 1))).astype(np.float32)\n",
        "\n",
        "# Derivatives\n",
        "df['acc_mag_jerk'] = df.groupby('sequence_id')['acc_mag'].diff().fillna(0).astype(np.float32)\n",
        "df['rot_angle_vel'] = df.groupby('sequence_id')['rot_angle'].diff().fillna(0).astype(np.float32)\n",
        "\n",
        "# Second derivatives\n",
        "df['acc_x_jerk'] = df.groupby('sequence_id')['acc_x'].diff().fillna(0).astype(np.float32)\n",
        "df['acc_y_jerk'] = df.groupby('sequence_id')['acc_y'].diff().fillna(0).astype(np.float32)\n",
        "df['acc_z_jerk'] = df.groupby('sequence_id')['acc_z'].diff().fillna(0).astype(np.float32)\n",
        "df['acc_x_jerk_jerk'] = df.groupby('sequence_id')['acc_x_jerk'].diff().fillna(0).astype(np.float32)\n",
        "df['acc_y_jerk_jerk'] = df.groupby('sequence_id')['acc_y_jerk'].diff().fillna(0).astype(np.float32)\n",
        "df['acc_z_jerk_jerk'] = df.groupby('sequence_id')['acc_z_jerk'].diff().fillna(0).astype(np.float32)\n",
        "\n",
        "# Gravity-removed acceleration\n",
        "print(\"  Removing gravity...\")\n",
        "linear_accel_list = []\n",
        "for seq_id, group in df.groupby('sequence_id'):\n",
        "    acc_data = group[['acc_x', 'acc_y', 'acc_z']]\n",
        "    rot_data = group[['rot_x', 'rot_y', 'rot_z', 'rot_w']]\n",
        "    linear_accel = remove_gravity_from_acc(acc_data, rot_data)\n",
        "    linear_accel_list.append(\n",
        "        pd.DataFrame(linear_accel, columns=['linear_acc_x', 'linear_acc_y', 'linear_acc_z'], index=group.index)\n",
        "    )\n",
        "df = pd.concat([df, pd.concat(linear_accel_list)], axis=1)\n",
        "\n",
        "# Linear acceleration features\n",
        "df['linear_acc_mag'] = np.sqrt(df['linear_acc_x']**2 + df['linear_acc_y']**2 + df['linear_acc_z']**2).astype(np.float32)\n",
        "df['linear_acc_mag_jerk'] = df.groupby('sequence_id')['linear_acc_mag'].diff().fillna(0).astype(np.float32)\n",
        "\n",
        "# Angular velocity\n",
        "print(\"  Calculating angular velocity...\")\n",
        "angular_vel_list = []\n",
        "for seq_id, group in df.groupby('sequence_id'):\n",
        "    rot_data = group[['rot_x', 'rot_y', 'rot_z', 'rot_w']]\n",
        "    angular_vel = calculate_angular_velocity_from_quat(rot_data)\n",
        "    angular_vel_list.append(\n",
        "        pd.DataFrame(angular_vel, columns=['angular_vel_x', 'angular_vel_y', 'angular_vel_z'], index=group.index)\n",
        "    )\n",
        "df = pd.concat([df, pd.concat(angular_vel_list)], axis=1)\n",
        "\n",
        "# Angular velocity features\n",
        "df['angular_vel_mag'] = np.sqrt(df['angular_vel_x']**2 + df['angular_vel_y']**2 + df['angular_vel_z']**2).astype(np.float32)\n",
        "df['angular_vel_mag_jerk'] = df.groupby('sequence_id')['angular_vel_mag'].diff().fillna(0).astype(np.float32)\n",
        "\n",
        "# Angular distance\n",
        "print(\"  Calculating angular distance...\")\n",
        "angular_dist_list = []\n",
        "for seq_id, group in df.groupby('sequence_id'):\n",
        "    rot_data = group[['rot_x', 'rot_y', 'rot_z', 'rot_w']]\n",
        "    angular_dist = calculate_angular_distance(rot_data)\n",
        "    angular_dist_list.append(\n",
        "        pd.DataFrame(angular_dist, columns=['angular_distance'], index=group.index)\n",
        "    )\n",
        "df = pd.concat([df, pd.concat(angular_dist_list)], axis=1)\n",
        "\n",
        "# Ensure all numeric columns are float32\n",
        "for col in df.select_dtypes(include=[np.number]).columns:\n",
        "    df[col] = df[col].astype(np.float32)\n",
        "\n",
        "# Define all IMU columns #\n",
        "imu_cols = initial_imu_cols + [\n",
        "    'acc_mag', 'rot_angle', 'acc_mag_jerk', 'rot_angle_vel',\n",
        "    'acc_x_jerk', 'acc_y_jerk', 'acc_z_jerk',\n",
        "    'acc_x_jerk_jerk', 'acc_y_jerk_jerk', 'acc_z_jerk_jerk',\n",
        "    # 'linear_acc_x', 'linear_acc_y', 'linear_acc_z', 'linear_acc_mag', 'linear_acc_mag_jerk',\n",
        "    'angular_vel_x', 'angular_vel_y', 'angular_vel_z', 'angular_vel_mag', 'angular_vel_mag_jerk',\n",
        "    'angular_distance'\n",
        "]\n",
        "\n",
        "print(f\"Using {len(imu_cols)} IMU features\")\n",
        "\n",
        "# --- Labels & grouping info ---\n",
        "gestures = sorted(df['gesture'].unique())\n",
        "label_map = {g: i for i, g in enumerate(gestures)}\n",
        "non_target_list = [\n",
        "    'Drink from bottle/cup','Glasses on/off','Pull air toward your face',\n",
        "    'Pinch knee/leg skin','Scratch knee/leg skin','Write name on leg',\n",
        "    'Text on phone','Feel around in tray and pull out an object',\n",
        "    'Write name in air','Wave hello'\n",
        "]\n",
        "non_target_idxs = [label_map[g] for g in non_target_list if g in label_map]\n",
        "\n",
        "# Sequence info\n",
        "seq_info = df.groupby('sequence_id')\\\n",
        "              .agg(gesture=('gesture','first'), subject=('subject','first'))\\\n",
        "              .reset_index()\n",
        "\n",
        "# --- Training Configuration ---\n",
        "device = torch.device('cuda' if torch.cuda.is_available() else 'cpu')\n",
        "print(f\"Using device: {device}\")\n",
        "\n",
        "# Hyperparameters\n",
        "EPOCHS = 100\n",
        "BATCH_SIZE = 32\n",
        "LR = 0.001\n",
        "WEIGHT_DECAY = 1e-4\n",
        "K_FOLDS = 5\n",
        "\n",
        "# Cross-validation\n",
        "sgkf = StratifiedGroupKFold(n_splits=K_FOLDS, shuffle=True, random_state=10086)\n",
        "fold_results = []\n",
        "# --- Main Training Script ---\n",
        "def main():\n",
        "    print(\"=== Simple Improved CNN IMU Model Training ===\")\n",
        "\n",
        "\n",
        "\n",
        "    for fold, (train_idx, val_idx) in enumerate(\n",
        "        sgkf.split(seq_info['sequence_id'], seq_info['gesture'], groups=seq_info['subject'])\n",
        "    ):\n",
        "        print(f\"\\n=== Fold {fold+1}/{K_FOLDS} ===\")\n",
        "\n",
        "        # Get sequence IDs for train/val\n",
        "        train_seq_ids = seq_info.iloc[train_idx]['sequence_id'].values\n",
        "        val_seq_ids = seq_info.iloc[val_idx]['sequence_id'].values\n",
        "\n",
        "        # Filter dataframe\n",
        "        train_df = df[df['sequence_id'].isin(train_seq_ids)]\n",
        "        val_df = df[df['sequence_id'].isin(val_seq_ids)]\n",
        "\n",
        "        # Create datasets and dataloaders\n",
        "        train_dataset = IMUDataset(train_df, imu_cols, label_map, augment=True)\n",
        "        val_dataset = IMUDataset(val_df, imu_cols, label_map, augment=False)\n",
        "\n",
        "        train_loader = DataLoader(\n",
        "            train_dataset,\n",
        "            batch_size=BATCH_SIZE,\n",
        "            shuffle=True,\n",
        "            collate_fn=collate_fn,\n",
        "            pin_memory=True,\n",
        "            num_workers=2\n",
        "        )\n",
        "        val_loader = DataLoader(\n",
        "            val_dataset,\n",
        "            batch_size=BATCH_SIZE,\n",
        "            shuffle=False,\n",
        "            collate_fn=collate_fn,\n",
        "            pin_memory=True\n",
        "        )\n",
        "\n",
        "        # Initialize simple improved model\n",
        "        model = ImprovedCNNIMUModel(len(imu_cols), len(gestures), dropout_rate=0.25).to(device)\n",
        "\n",
        "        # Optimizer and scheduler (no warmup)\n",
        "        optimizer = torch.optim.AdamW(model.parameters(), lr=LR, weight_decay=WEIGHT_DECAY)\n",
        "        scheduler = torch.optim.lr_scheduler.OneCycleLR(\n",
        "            optimizer,\n",
        "            max_lr=LR,\n",
        "            epochs=EPOCHS,\n",
        "            steps_per_epoch=len(train_loader),\n",
        "            anneal_strategy='cos'\n",
        "        )\n",
        "\n",
        "        # Training loop\n",
        "        best_score = 0.0\n",
        "        best_binary_f1 = 0.0\n",
        "        best_macro_f1 = 0.0\n",
        "        patience = 15\n",
        "        patience_counter = 0\n",
        "\n",
        "        for epoch in range(EPOCHS):\n",
        "            # Train\n",
        "            train_loss = train_one_epoch_improved(model, train_loader, optimizer, device)\n",
        "            scheduler.step()\n",
        "\n",
        "            # Evaluate\n",
        "            binary_f1, macro_f1 = evaluate_improved(model, val_loader, device, non_target_idxs)\n",
        "            combined_score = (binary_f1 + macro_f1) / 2\n",
        "\n",
        "            print(f\"Epoch {epoch+1}/{EPOCHS}: \"\n",
        "                  f\"Train Loss: {train_loss:.4f}, \"\n",
        "                  f\"Val Binary F1: {binary_f1:.4f}, \"\n",
        "                  f\"Val Macro F1: {macro_f1:.4f}, \"\n",
        "                  f\"Combined Score: {combined_score:.4f}\")\n",
        "\n",
        "            # Early stopping and best model saving based on combined score\n",
        "            if combined_score > best_score:\n",
        "                best_score = combined_score\n",
        "                best_binary_f1 = binary_f1\n",
        "                best_macro_f1 = macro_f1\n",
        "                patience_counter = 0\n",
        "                torch.save(model.state_dict(), f\"best_improved_model_fold{fold}.pth\")\n",
        "            else:\n",
        "                patience_counter += 1\n",
        "\n",
        "            if patience_counter >= patience:\n",
        "                print(f\"Early stopping at epoch {epoch+1}\")\n",
        "                break\n",
        "\n",
        "        fold_results.append({\n",
        "            'fold': fold,\n",
        "            'best_score': best_score,\n",
        "            'best_binary_f1': best_binary_f1,\n",
        "            'best_macro_f1': best_macro_f1\n",
        "        })\n",
        "        print(f\"Fold {fold+1} Best Score: {best_score:.4f} (Binary: {best_binary_f1:.4f}, Macro: {best_macro_f1:.4f})\")\n",
        "\n",
        "    # Calculate and print final results\n",
        "    best_scores = [res['best_score'] for res in fold_results]\n",
        "    best_binary_f1s = [res['best_binary_f1'] for res in fold_results]\n",
        "    best_macro_f1s = [res['best_macro_f1'] for res in fold_results]\n",
        "\n",
        "    mean_best_score = np.mean(best_scores)\n",
        "    std_best_score = np.std(best_scores)\n",
        "    mean_binary_f1 = np.mean(best_binary_f1s)\n",
        "    mean_macro_f1 = np.mean(best_macro_f1s)\n",
        "\n",
        "    print(f\"\\n=== Simple Improved Model Cross-Validation Results ===\")\n",
        "    print(f\"Average Best Score (Binary+Macro)/2: {mean_best_score:.4f} ± {std_best_score:.4f}\")\n",
        "    print(f\"Average Best Binary F1: {mean_binary_f1:.4f}\")\n",
        "    print(f\"Average Best Macro F1: {mean_macro_f1:.4f}\")\n",
        "    print(f\"Individual Best Scores: {[f'{score:.4f}' for score in best_scores]}\")\n",
        "    print(f\"Individual Binary F1s: {[f'{score:.4f}' for score in best_binary_f1s]}\")\n",
        "    print(f\"Individual Macro F1s: {[f'{score:.4f}' for score in best_macro_f1s]}\")\n",
        "\n",
        "if __name__ == \"__main__\":\n",
        "    main()"
      ],
      "metadata": {
        "colab": {
          "base_uri": "https://localhost:8080/"
        },
        "id": "M3tlTpEsCwDi",
        "outputId": "4f9d2df2-8d27-48f1-fdb6-57a9fb567723"
      },
      "execution_count": null,
      "outputs": [
        {
          "output_type": "stream",
          "name": "stdout",
          "text": [
            "Loading and cleaning data...\n",
            "Calculating engineered features...\n",
            "  Removing gravity...\n",
            "  Calculating angular velocity...\n",
            "  Calculating angular distance...\n",
            "Using 23 IMU features\n",
            "Using device: cuda\n",
            "=== Simple Improved CNN IMU Model Training ===\n",
            "\n",
            "=== Fold 1/5 ===\n"
          ]
        },
        {
          "output_type": "stream",
          "name": "stderr",
          "text": [
            "Training: 100%|██████████| 612/612 [00:07<00:00, 82.87it/s]\n"
          ]
        },
        {
          "output_type": "stream",
          "name": "stdout",
          "text": [
            "Epoch 1/100: Train Loss: 2.5477, Val Binary F1: 0.8856, Val Macro F1: 0.2260, Combined Score: 0.5558\n"
          ]
        },
        {
          "output_type": "stream",
          "name": "stderr",
          "text": [
            "Training: 100%|██████████| 612/612 [00:07<00:00, 82.52it/s]\n"
          ]
        },
        {
          "output_type": "stream",
          "name": "stdout",
          "text": [
            "Epoch 2/100: Train Loss: 2.1011, Val Binary F1: 0.9129, Val Macro F1: 0.3088, Combined Score: 0.6108\n"
          ]
        },
        {
          "output_type": "stream",
          "name": "stderr",
          "text": [
            "Training: 100%|██████████| 612/612 [00:07<00:00, 78.87it/s]\n"
          ]
        },
        {
          "output_type": "stream",
          "name": "stdout",
          "text": [
            "Epoch 3/100: Train Loss: 1.9040, Val Binary F1: 0.9254, Val Macro F1: 0.3537, Combined Score: 0.6396\n"
          ]
        },
        {
          "output_type": "stream",
          "name": "stderr",
          "text": [
            "Training: 100%|██████████| 612/612 [00:07<00:00, 81.91it/s]\n"
          ]
        },
        {
          "output_type": "stream",
          "name": "stdout",
          "text": [
            "Epoch 4/100: Train Loss: 1.7915, Val Binary F1: 0.9319, Val Macro F1: 0.3811, Combined Score: 0.6565\n"
          ]
        },
        {
          "output_type": "stream",
          "name": "stderr",
          "text": [
            "Training: 100%|██████████| 612/612 [00:07<00:00, 82.09it/s]\n"
          ]
        },
        {
          "output_type": "stream",
          "name": "stdout",
          "text": [
            "Epoch 5/100: Train Loss: 1.7059, Val Binary F1: 0.9408, Val Macro F1: 0.4240, Combined Score: 0.6824\n"
          ]
        },
        {
          "output_type": "stream",
          "name": "stderr",
          "text": [
            "Training: 100%|██████████| 612/612 [00:07<00:00, 81.35it/s]\n"
          ]
        },
        {
          "output_type": "stream",
          "name": "stdout",
          "text": [
            "Epoch 6/100: Train Loss: 1.6409, Val Binary F1: 0.9480, Val Macro F1: 0.4227, Combined Score: 0.6854\n"
          ]
        },
        {
          "output_type": "stream",
          "name": "stderr",
          "text": [
            "Training: 100%|██████████| 612/612 [00:07<00:00, 83.51it/s]\n"
          ]
        },
        {
          "output_type": "stream",
          "name": "stdout",
          "text": [
            "Epoch 7/100: Train Loss: 1.5796, Val Binary F1: 0.9469, Val Macro F1: 0.4625, Combined Score: 0.7047\n"
          ]
        },
        {
          "output_type": "stream",
          "name": "stderr",
          "text": [
            "Training: 100%|██████████| 612/612 [00:07<00:00, 79.77it/s]\n"
          ]
        },
        {
          "output_type": "stream",
          "name": "stdout",
          "text": [
            "Epoch 8/100: Train Loss: 1.5338, Val Binary F1: 0.9570, Val Macro F1: 0.4859, Combined Score: 0.7214\n"
          ]
        },
        {
          "output_type": "stream",
          "name": "stderr",
          "text": [
            "Training: 100%|██████████| 612/612 [00:07<00:00, 81.52it/s]\n"
          ]
        },
        {
          "output_type": "stream",
          "name": "stdout",
          "text": [
            "Epoch 9/100: Train Loss: 1.4905, Val Binary F1: 0.9466, Val Macro F1: 0.4777, Combined Score: 0.7121\n"
          ]
        },
        {
          "output_type": "stream",
          "name": "stderr",
          "text": [
            "Training: 100%|██████████| 612/612 [00:07<00:00, 82.07it/s]\n"
          ]
        },
        {
          "output_type": "stream",
          "name": "stdout",
          "text": [
            "Epoch 10/100: Train Loss: 1.4440, Val Binary F1: 0.9530, Val Macro F1: 0.4881, Combined Score: 0.7206\n"
          ]
        },
        {
          "output_type": "stream",
          "name": "stderr",
          "text": [
            "Training: 100%|██████████| 612/612 [00:07<00:00, 80.09it/s]\n"
          ]
        },
        {
          "output_type": "stream",
          "name": "stdout",
          "text": [
            "Epoch 11/100: Train Loss: 1.4209, Val Binary F1: 0.9600, Val Macro F1: 0.4979, Combined Score: 0.7289\n"
          ]
        },
        {
          "output_type": "stream",
          "name": "stderr",
          "text": [
            "Training: 100%|██████████| 612/612 [00:07<00:00, 82.95it/s]\n"
          ]
        },
        {
          "output_type": "stream",
          "name": "stdout",
          "text": [
            "Epoch 12/100: Train Loss: 1.3861, Val Binary F1: 0.9577, Val Macro F1: 0.5053, Combined Score: 0.7315\n"
          ]
        },
        {
          "output_type": "stream",
          "name": "stderr",
          "text": [
            "Training: 100%|██████████| 612/612 [00:07<00:00, 82.45it/s]\n"
          ]
        },
        {
          "output_type": "stream",
          "name": "stdout",
          "text": [
            "Epoch 13/100: Train Loss: 1.3619, Val Binary F1: 0.9604, Val Macro F1: 0.5148, Combined Score: 0.7376\n"
          ]
        },
        {
          "output_type": "stream",
          "name": "stderr",
          "text": [
            "Training: 100%|██████████| 612/612 [00:07<00:00, 80.23it/s]\n"
          ]
        },
        {
          "output_type": "stream",
          "name": "stdout",
          "text": [
            "Epoch 14/100: Train Loss: 1.3317, Val Binary F1: 0.9640, Val Macro F1: 0.5191, Combined Score: 0.7415\n"
          ]
        },
        {
          "output_type": "stream",
          "name": "stderr",
          "text": [
            "Training: 100%|██████████| 612/612 [00:07<00:00, 81.63it/s]\n"
          ]
        },
        {
          "output_type": "stream",
          "name": "stdout",
          "text": [
            "Epoch 15/100: Train Loss: 1.3068, Val Binary F1: 0.9617, Val Macro F1: 0.5230, Combined Score: 0.7424\n"
          ]
        },
        {
          "output_type": "stream",
          "name": "stderr",
          "text": [
            "Training: 100%|██████████| 612/612 [00:07<00:00, 79.14it/s]\n"
          ]
        },
        {
          "output_type": "stream",
          "name": "stdout",
          "text": [
            "Epoch 16/100: Train Loss: 1.2746, Val Binary F1: 0.9513, Val Macro F1: 0.5311, Combined Score: 0.7412\n"
          ]
        },
        {
          "output_type": "stream",
          "name": "stderr",
          "text": [
            "Training: 100%|██████████| 612/612 [00:07<00:00, 80.97it/s]\n"
          ]
        },
        {
          "output_type": "stream",
          "name": "stdout",
          "text": [
            "Epoch 17/100: Train Loss: 1.2564, Val Binary F1: 0.9564, Val Macro F1: 0.5266, Combined Score: 0.7415\n"
          ]
        },
        {
          "output_type": "stream",
          "name": "stderr",
          "text": [
            "Training: 100%|██████████| 612/612 [00:07<00:00, 82.44it/s]\n"
          ]
        },
        {
          "output_type": "stream",
          "name": "stdout",
          "text": [
            "Epoch 18/100: Train Loss: 1.2314, Val Binary F1: 0.9550, Val Macro F1: 0.5274, Combined Score: 0.7412\n"
          ]
        },
        {
          "output_type": "stream",
          "name": "stderr",
          "text": [
            "Training: 100%|██████████| 612/612 [00:07<00:00, 79.40it/s]\n"
          ]
        },
        {
          "output_type": "stream",
          "name": "stdout",
          "text": [
            "Epoch 19/100: Train Loss: 1.2089, Val Binary F1: 0.9574, Val Macro F1: 0.5290, Combined Score: 0.7432\n"
          ]
        },
        {
          "output_type": "stream",
          "name": "stderr",
          "text": [
            "Training: 100%|██████████| 612/612 [00:07<00:00, 80.23it/s]\n"
          ]
        },
        {
          "output_type": "stream",
          "name": "stdout",
          "text": [
            "Epoch 20/100: Train Loss: 1.1929, Val Binary F1: 0.9607, Val Macro F1: 0.5300, Combined Score: 0.7453\n"
          ]
        },
        {
          "output_type": "stream",
          "name": "stderr",
          "text": [
            "Training: 100%|██████████| 612/612 [00:07<00:00, 77.88it/s]\n"
          ]
        },
        {
          "output_type": "stream",
          "name": "stdout",
          "text": [
            "Epoch 21/100: Train Loss: 1.1704, Val Binary F1: 0.9618, Val Macro F1: 0.5501, Combined Score: 0.7560\n"
          ]
        },
        {
          "output_type": "stream",
          "name": "stderr",
          "text": [
            "Training: 100%|██████████| 612/612 [00:07<00:00, 79.89it/s]\n"
          ]
        },
        {
          "output_type": "stream",
          "name": "stdout",
          "text": [
            "Epoch 22/100: Train Loss: 1.1610, Val Binary F1: 0.9651, Val Macro F1: 0.5476, Combined Score: 0.7564\n"
          ]
        },
        {
          "output_type": "stream",
          "name": "stderr",
          "text": [
            "Training: 100%|██████████| 612/612 [00:07<00:00, 80.33it/s]\n"
          ]
        },
        {
          "output_type": "stream",
          "name": "stdout",
          "text": [
            "Epoch 23/100: Train Loss: 1.1353, Val Binary F1: 0.9595, Val Macro F1: 0.5349, Combined Score: 0.7472\n"
          ]
        },
        {
          "output_type": "stream",
          "name": "stderr",
          "text": [
            "Training: 100%|██████████| 612/612 [00:07<00:00, 78.65it/s]\n"
          ]
        },
        {
          "output_type": "stream",
          "name": "stdout",
          "text": [
            "Epoch 24/100: Train Loss: 1.1124, Val Binary F1: 0.9669, Val Macro F1: 0.5480, Combined Score: 0.7574\n"
          ]
        },
        {
          "output_type": "stream",
          "name": "stderr",
          "text": [
            "Training: 100%|██████████| 612/612 [00:07<00:00, 80.91it/s]\n"
          ]
        },
        {
          "output_type": "stream",
          "name": "stdout",
          "text": [
            "Epoch 25/100: Train Loss: 1.1015, Val Binary F1: 0.9654, Val Macro F1: 0.5591, Combined Score: 0.7622\n"
          ]
        },
        {
          "output_type": "stream",
          "name": "stderr",
          "text": [
            "Training: 100%|██████████| 612/612 [00:07<00:00, 81.33it/s]\n"
          ]
        },
        {
          "output_type": "stream",
          "name": "stdout",
          "text": [
            "Epoch 26/100: Train Loss: 1.0708, Val Binary F1: 0.9617, Val Macro F1: 0.5431, Combined Score: 0.7524\n"
          ]
        },
        {
          "output_type": "stream",
          "name": "stderr",
          "text": [
            "Training: 100%|██████████| 612/612 [00:07<00:00, 80.46it/s]\n"
          ]
        },
        {
          "output_type": "stream",
          "name": "stdout",
          "text": [
            "Epoch 27/100: Train Loss: 1.0584, Val Binary F1: 0.9622, Val Macro F1: 0.5298, Combined Score: 0.7460\n"
          ]
        },
        {
          "output_type": "stream",
          "name": "stderr",
          "text": [
            "Training: 100%|██████████| 612/612 [00:07<00:00, 79.48it/s]\n"
          ]
        },
        {
          "output_type": "stream",
          "name": "stdout",
          "text": [
            "Epoch 28/100: Train Loss: 1.0399, Val Binary F1: 0.9621, Val Macro F1: 0.5179, Combined Score: 0.7400\n"
          ]
        },
        {
          "output_type": "stream",
          "name": "stderr",
          "text": [
            "Training: 100%|██████████| 612/612 [00:07<00:00, 79.32it/s]\n"
          ]
        },
        {
          "output_type": "stream",
          "name": "stdout",
          "text": [
            "Epoch 29/100: Train Loss: 1.0199, Val Binary F1: 0.9690, Val Macro F1: 0.5507, Combined Score: 0.7599\n"
          ]
        },
        {
          "output_type": "stream",
          "name": "stderr",
          "text": [
            "Training: 100%|██████████| 612/612 [00:07<00:00, 77.12it/s]\n"
          ]
        },
        {
          "output_type": "stream",
          "name": "stdout",
          "text": [
            "Epoch 30/100: Train Loss: 1.0117, Val Binary F1: 0.9644, Val Macro F1: 0.5405, Combined Score: 0.7525\n"
          ]
        },
        {
          "output_type": "stream",
          "name": "stderr",
          "text": [
            "Training: 100%|██████████| 612/612 [00:07<00:00, 78.90it/s]\n"
          ]
        },
        {
          "output_type": "stream",
          "name": "stdout",
          "text": [
            "Epoch 31/100: Train Loss: 0.9926, Val Binary F1: 0.9616, Val Macro F1: 0.5477, Combined Score: 0.7547\n"
          ]
        },
        {
          "output_type": "stream",
          "name": "stderr",
          "text": [
            "Training: 100%|██████████| 612/612 [00:07<00:00, 81.66it/s]\n"
          ]
        },
        {
          "output_type": "stream",
          "name": "stdout",
          "text": [
            "Epoch 32/100: Train Loss: 0.9745, Val Binary F1: 0.9633, Val Macro F1: 0.5420, Combined Score: 0.7527\n"
          ]
        },
        {
          "output_type": "stream",
          "name": "stderr",
          "text": [
            "Training: 100%|██████████| 612/612 [00:07<00:00, 80.31it/s]\n"
          ]
        },
        {
          "output_type": "stream",
          "name": "stdout",
          "text": [
            "Epoch 33/100: Train Loss: 0.9683, Val Binary F1: 0.9681, Val Macro F1: 0.5511, Combined Score: 0.7596\n"
          ]
        },
        {
          "output_type": "stream",
          "name": "stderr",
          "text": [
            "Training: 100%|██████████| 612/612 [00:07<00:00, 78.11it/s]\n"
          ]
        },
        {
          "output_type": "stream",
          "name": "stdout",
          "text": [
            "Epoch 34/100: Train Loss: 0.9523, Val Binary F1: 0.9547, Val Macro F1: 0.5398, Combined Score: 0.7472\n"
          ]
        },
        {
          "output_type": "stream",
          "name": "stderr",
          "text": [
            "Training: 100%|██████████| 612/612 [00:07<00:00, 81.81it/s]\n"
          ]
        },
        {
          "output_type": "stream",
          "name": "stdout",
          "text": [
            "Epoch 35/100: Train Loss: 0.9404, Val Binary F1: 0.9654, Val Macro F1: 0.5509, Combined Score: 0.7581\n"
          ]
        },
        {
          "output_type": "stream",
          "name": "stderr",
          "text": [
            "Training: 100%|██████████| 612/612 [00:07<00:00, 80.72it/s]\n"
          ]
        },
        {
          "output_type": "stream",
          "name": "stdout",
          "text": [
            "Epoch 36/100: Train Loss: 0.9303, Val Binary F1: 0.9625, Val Macro F1: 0.5317, Combined Score: 0.7471\n"
          ]
        },
        {
          "output_type": "stream",
          "name": "stderr",
          "text": [
            "Training: 100%|██████████| 612/612 [00:07<00:00, 80.76it/s]\n"
          ]
        },
        {
          "output_type": "stream",
          "name": "stdout",
          "text": [
            "Epoch 37/100: Train Loss: 0.9166, Val Binary F1: 0.9671, Val Macro F1: 0.5364, Combined Score: 0.7518\n"
          ]
        },
        {
          "output_type": "stream",
          "name": "stderr",
          "text": [
            "Training: 100%|██████████| 612/612 [00:07<00:00, 85.45it/s]\n"
          ]
        },
        {
          "output_type": "stream",
          "name": "stdout",
          "text": [
            "Epoch 38/100: Train Loss: 0.9127, Val Binary F1: 0.9608, Val Macro F1: 0.5376, Combined Score: 0.7492\n"
          ]
        },
        {
          "output_type": "stream",
          "name": "stderr",
          "text": [
            "Training: 100%|██████████| 612/612 [00:07<00:00, 81.93it/s]\n"
          ]
        },
        {
          "output_type": "stream",
          "name": "stdout",
          "text": [
            "Epoch 39/100: Train Loss: 0.9002, Val Binary F1: 0.9602, Val Macro F1: 0.5236, Combined Score: 0.7419\n"
          ]
        },
        {
          "output_type": "stream",
          "name": "stderr",
          "text": [
            "Training: 100%|██████████| 612/612 [00:07<00:00, 84.38it/s]\n"
          ]
        },
        {
          "output_type": "stream",
          "name": "stdout",
          "text": [
            "Epoch 40/100: Train Loss: 0.8857, Val Binary F1: 0.9589, Val Macro F1: 0.5430, Combined Score: 0.7510\n",
            "Early stopping at epoch 40\n",
            "Fold 1 Best Score: 0.7622 (Binary: 0.9654, Macro: 0.5591)\n",
            "\n",
            "=== Fold 2/5 ===\n"
          ]
        },
        {
          "output_type": "stream",
          "name": "stderr",
          "text": [
            "Training: 100%|██████████| 613/613 [00:07<00:00, 81.60it/s]\n"
          ]
        },
        {
          "output_type": "stream",
          "name": "stdout",
          "text": [
            "Epoch 1/100: Train Loss: 2.5534, Val Binary F1: 0.9130, Val Macro F1: 0.2597, Combined Score: 0.5864\n"
          ]
        },
        {
          "output_type": "stream",
          "name": "stderr",
          "text": [
            "Training: 100%|██████████| 613/613 [00:07<00:00, 80.37it/s]\n"
          ]
        },
        {
          "output_type": "stream",
          "name": "stdout",
          "text": [
            "Epoch 2/100: Train Loss: 2.1320, Val Binary F1: 0.9483, Val Macro F1: 0.3272, Combined Score: 0.6378\n"
          ]
        },
        {
          "output_type": "stream",
          "name": "stderr",
          "text": [
            "Training: 100%|██████████| 613/613 [00:07<00:00, 79.64it/s]\n"
          ]
        },
        {
          "output_type": "stream",
          "name": "stdout",
          "text": [
            "Epoch 3/100: Train Loss: 1.9269, Val Binary F1: 0.9594, Val Macro F1: 0.3722, Combined Score: 0.6658\n"
          ]
        },
        {
          "output_type": "stream",
          "name": "stderr",
          "text": [
            "Training: 100%|██████████| 613/613 [00:07<00:00, 83.70it/s]\n"
          ]
        },
        {
          "output_type": "stream",
          "name": "stdout",
          "text": [
            "Epoch 4/100: Train Loss: 1.8276, Val Binary F1: 0.9669, Val Macro F1: 0.4053, Combined Score: 0.6861\n"
          ]
        },
        {
          "output_type": "stream",
          "name": "stderr",
          "text": [
            "Training: 100%|██████████| 613/613 [00:07<00:00, 80.85it/s]\n"
          ]
        },
        {
          "output_type": "stream",
          "name": "stdout",
          "text": [
            "Epoch 5/100: Train Loss: 1.7519, Val Binary F1: 0.9685, Val Macro F1: 0.4337, Combined Score: 0.7011\n"
          ]
        },
        {
          "output_type": "stream",
          "name": "stderr",
          "text": [
            "Training: 100%|██████████| 613/613 [00:07<00:00, 82.37it/s]\n"
          ]
        },
        {
          "output_type": "stream",
          "name": "stdout",
          "text": [
            "Epoch 6/100: Train Loss: 1.6858, Val Binary F1: 0.9726, Val Macro F1: 0.4705, Combined Score: 0.7216\n"
          ]
        },
        {
          "output_type": "stream",
          "name": "stderr",
          "text": [
            "Training: 100%|██████████| 613/613 [00:07<00:00, 82.97it/s]\n"
          ]
        },
        {
          "output_type": "stream",
          "name": "stdout",
          "text": [
            "Epoch 7/100: Train Loss: 1.6327, Val Binary F1: 0.9727, Val Macro F1: 0.4881, Combined Score: 0.7304\n"
          ]
        },
        {
          "output_type": "stream",
          "name": "stderr",
          "text": [
            "Training: 100%|██████████| 613/613 [00:07<00:00, 77.23it/s]\n"
          ]
        },
        {
          "output_type": "stream",
          "name": "stdout",
          "text": [
            "Epoch 8/100: Train Loss: 1.5798, Val Binary F1: 0.9745, Val Macro F1: 0.5213, Combined Score: 0.7479\n"
          ]
        },
        {
          "output_type": "stream",
          "name": "stderr",
          "text": [
            "Training: 100%|██████████| 613/613 [00:07<00:00, 79.25it/s]\n"
          ]
        },
        {
          "output_type": "stream",
          "name": "stdout",
          "text": [
            "Epoch 9/100: Train Loss: 1.5360, Val Binary F1: 0.9804, Val Macro F1: 0.5186, Combined Score: 0.7495\n"
          ]
        },
        {
          "output_type": "stream",
          "name": "stderr",
          "text": [
            "Training: 100%|██████████| 613/613 [00:07<00:00, 83.06it/s]\n"
          ]
        },
        {
          "output_type": "stream",
          "name": "stdout",
          "text": [
            "Epoch 10/100: Train Loss: 1.4954, Val Binary F1: 0.9785, Val Macro F1: 0.5237, Combined Score: 0.7511\n"
          ]
        },
        {
          "output_type": "stream",
          "name": "stderr",
          "text": [
            "Training: 100%|██████████| 613/613 [00:07<00:00, 83.02it/s]\n"
          ]
        },
        {
          "output_type": "stream",
          "name": "stdout",
          "text": [
            "Epoch 11/100: Train Loss: 1.4693, Val Binary F1: 0.9785, Val Macro F1: 0.5437, Combined Score: 0.7611\n"
          ]
        },
        {
          "output_type": "stream",
          "name": "stderr",
          "text": [
            "Training: 100%|██████████| 613/613 [00:07<00:00, 77.96it/s]\n"
          ]
        },
        {
          "output_type": "stream",
          "name": "stdout",
          "text": [
            "Epoch 12/100: Train Loss: 1.4241, Val Binary F1: 0.9790, Val Macro F1: 0.5556, Combined Score: 0.7673\n"
          ]
        },
        {
          "output_type": "stream",
          "name": "stderr",
          "text": [
            "Training: 100%|██████████| 613/613 [00:07<00:00, 83.52it/s]\n"
          ]
        },
        {
          "output_type": "stream",
          "name": "stdout",
          "text": [
            "Epoch 13/100: Train Loss: 1.3997, Val Binary F1: 0.9776, Val Macro F1: 0.5670, Combined Score: 0.7723\n"
          ]
        },
        {
          "output_type": "stream",
          "name": "stderr",
          "text": [
            "Training: 100%|██████████| 613/613 [00:07<00:00, 82.14it/s]\n"
          ]
        },
        {
          "output_type": "stream",
          "name": "stdout",
          "text": [
            "Epoch 14/100: Train Loss: 1.3759, Val Binary F1: 0.9828, Val Macro F1: 0.5724, Combined Score: 0.7776\n"
          ]
        },
        {
          "output_type": "stream",
          "name": "stderr",
          "text": [
            "Training: 100%|██████████| 613/613 [00:07<00:00, 82.81it/s]\n"
          ]
        },
        {
          "output_type": "stream",
          "name": "stdout",
          "text": [
            "Epoch 15/100: Train Loss: 1.3419, Val Binary F1: 0.9829, Val Macro F1: 0.5616, Combined Score: 0.7723\n"
          ]
        },
        {
          "output_type": "stream",
          "name": "stderr",
          "text": [
            "Training: 100%|██████████| 613/613 [00:07<00:00, 77.69it/s]\n"
          ]
        },
        {
          "output_type": "stream",
          "name": "stdout",
          "text": [
            "Epoch 16/100: Train Loss: 1.3142, Val Binary F1: 0.9794, Val Macro F1: 0.5700, Combined Score: 0.7747\n"
          ]
        },
        {
          "output_type": "stream",
          "name": "stderr",
          "text": [
            "Training: 100%|██████████| 613/613 [00:07<00:00, 82.65it/s]\n"
          ]
        },
        {
          "output_type": "stream",
          "name": "stdout",
          "text": [
            "Epoch 17/100: Train Loss: 1.2974, Val Binary F1: 0.9829, Val Macro F1: 0.5581, Combined Score: 0.7705\n"
          ]
        },
        {
          "output_type": "stream",
          "name": "stderr",
          "text": [
            "Training: 100%|██████████| 613/613 [00:07<00:00, 81.40it/s]\n"
          ]
        },
        {
          "output_type": "stream",
          "name": "stdout",
          "text": [
            "Epoch 18/100: Train Loss: 1.2745, Val Binary F1: 0.9814, Val Macro F1: 0.5852, Combined Score: 0.7833\n"
          ]
        },
        {
          "output_type": "stream",
          "name": "stderr",
          "text": [
            "Training: 100%|██████████| 613/613 [00:07<00:00, 83.85it/s]\n"
          ]
        },
        {
          "output_type": "stream",
          "name": "stdout",
          "text": [
            "Epoch 19/100: Train Loss: 1.2472, Val Binary F1: 0.9824, Val Macro F1: 0.5848, Combined Score: 0.7836\n"
          ]
        },
        {
          "output_type": "stream",
          "name": "stderr",
          "text": [
            "Training: 100%|██████████| 613/613 [00:07<00:00, 79.56it/s]\n"
          ]
        },
        {
          "output_type": "stream",
          "name": "stdout",
          "text": [
            "Epoch 20/100: Train Loss: 1.2298, Val Binary F1: 0.9819, Val Macro F1: 0.5936, Combined Score: 0.7878\n"
          ]
        },
        {
          "output_type": "stream",
          "name": "stderr",
          "text": [
            "Training: 100%|██████████| 613/613 [00:07<00:00, 83.03it/s]\n"
          ]
        },
        {
          "output_type": "stream",
          "name": "stdout",
          "text": [
            "Epoch 21/100: Train Loss: 1.2019, Val Binary F1: 0.9838, Val Macro F1: 0.5902, Combined Score: 0.7870\n"
          ]
        },
        {
          "output_type": "stream",
          "name": "stderr",
          "text": [
            "Training: 100%|██████████| 613/613 [00:07<00:00, 82.78it/s]\n"
          ]
        },
        {
          "output_type": "stream",
          "name": "stdout",
          "text": [
            "Epoch 22/100: Train Loss: 1.1808, Val Binary F1: 0.9833, Val Macro F1: 0.5792, Combined Score: 0.7812\n"
          ]
        },
        {
          "output_type": "stream",
          "name": "stderr",
          "text": [
            "Training: 100%|██████████| 613/613 [00:07<00:00, 80.79it/s]\n"
          ]
        },
        {
          "output_type": "stream",
          "name": "stdout",
          "text": [
            "Epoch 23/100: Train Loss: 1.1635, Val Binary F1: 0.9819, Val Macro F1: 0.5921, Combined Score: 0.7870\n"
          ]
        },
        {
          "output_type": "stream",
          "name": "stderr",
          "text": [
            "Training: 100%|██████████| 613/613 [00:07<00:00, 78.45it/s]\n"
          ]
        },
        {
          "output_type": "stream",
          "name": "stdout",
          "text": [
            "Epoch 24/100: Train Loss: 1.1465, Val Binary F1: 0.9838, Val Macro F1: 0.5771, Combined Score: 0.7804\n"
          ]
        },
        {
          "output_type": "stream",
          "name": "stderr",
          "text": [
            "Training: 100%|██████████| 613/613 [00:07<00:00, 79.31it/s]\n"
          ]
        },
        {
          "output_type": "stream",
          "name": "stdout",
          "text": [
            "Epoch 25/100: Train Loss: 1.1314, Val Binary F1: 0.9833, Val Macro F1: 0.5734, Combined Score: 0.7783\n"
          ]
        },
        {
          "output_type": "stream",
          "name": "stderr",
          "text": [
            "Training: 100%|██████████| 613/613 [00:07<00:00, 81.38it/s]\n"
          ]
        },
        {
          "output_type": "stream",
          "name": "stdout",
          "text": [
            "Epoch 26/100: Train Loss: 1.1091, Val Binary F1: 0.9828, Val Macro F1: 0.5879, Combined Score: 0.7854\n"
          ]
        },
        {
          "output_type": "stream",
          "name": "stderr",
          "text": [
            "Training: 100%|██████████| 613/613 [00:07<00:00, 83.06it/s]\n"
          ]
        },
        {
          "output_type": "stream",
          "name": "stdout",
          "text": [
            "Epoch 27/100: Train Loss: 1.0922, Val Binary F1: 0.9877, Val Macro F1: 0.5919, Combined Score: 0.7898\n"
          ]
        },
        {
          "output_type": "stream",
          "name": "stderr",
          "text": [
            "Training: 100%|██████████| 613/613 [00:07<00:00, 81.40it/s]\n"
          ]
        },
        {
          "output_type": "stream",
          "name": "stdout",
          "text": [
            "Epoch 28/100: Train Loss: 1.0680, Val Binary F1: 0.9848, Val Macro F1: 0.5952, Combined Score: 0.7900\n"
          ]
        },
        {
          "output_type": "stream",
          "name": "stderr",
          "text": [
            "Training: 100%|██████████| 613/613 [00:07<00:00, 83.33it/s]\n"
          ]
        },
        {
          "output_type": "stream",
          "name": "stdout",
          "text": [
            "Epoch 29/100: Train Loss: 1.0497, Val Binary F1: 0.9828, Val Macro F1: 0.5784, Combined Score: 0.7806\n"
          ]
        },
        {
          "output_type": "stream",
          "name": "stderr",
          "text": [
            "Training: 100%|██████████| 613/613 [00:07<00:00, 82.68it/s]\n"
          ]
        },
        {
          "output_type": "stream",
          "name": "stdout",
          "text": [
            "Epoch 30/100: Train Loss: 1.0439, Val Binary F1: 0.9818, Val Macro F1: 0.5805, Combined Score: 0.7812\n"
          ]
        },
        {
          "output_type": "stream",
          "name": "stderr",
          "text": [
            "Training: 100%|██████████| 613/613 [00:07<00:00, 81.75it/s]\n"
          ]
        },
        {
          "output_type": "stream",
          "name": "stdout",
          "text": [
            "Epoch 31/100: Train Loss: 1.0256, Val Binary F1: 0.9824, Val Macro F1: 0.5573, Combined Score: 0.7698\n"
          ]
        },
        {
          "output_type": "stream",
          "name": "stderr",
          "text": [
            "Training: 100%|██████████| 613/613 [00:07<00:00, 81.93it/s]\n"
          ]
        },
        {
          "output_type": "stream",
          "name": "stdout",
          "text": [
            "Epoch 32/100: Train Loss: 1.0089, Val Binary F1: 0.9824, Val Macro F1: 0.5761, Combined Score: 0.7792\n"
          ]
        },
        {
          "output_type": "stream",
          "name": "stderr",
          "text": [
            "Training: 100%|██████████| 613/613 [00:07<00:00, 83.28it/s]\n"
          ]
        },
        {
          "output_type": "stream",
          "name": "stdout",
          "text": [
            "Epoch 33/100: Train Loss: 0.9983, Val Binary F1: 0.9827, Val Macro F1: 0.5671, Combined Score: 0.7749\n"
          ]
        },
        {
          "output_type": "stream",
          "name": "stderr",
          "text": [
            "Training: 100%|██████████| 613/613 [00:07<00:00, 82.36it/s]\n"
          ]
        },
        {
          "output_type": "stream",
          "name": "stdout",
          "text": [
            "Epoch 34/100: Train Loss: 0.9857, Val Binary F1: 0.9775, Val Macro F1: 0.5848, Combined Score: 0.7811\n"
          ]
        },
        {
          "output_type": "stream",
          "name": "stderr",
          "text": [
            "Training: 100%|██████████| 613/613 [00:07<00:00, 82.20it/s]\n"
          ]
        },
        {
          "output_type": "stream",
          "name": "stdout",
          "text": [
            "Epoch 35/100: Train Loss: 0.9720, Val Binary F1: 0.9799, Val Macro F1: 0.6070, Combined Score: 0.7934\n"
          ]
        },
        {
          "output_type": "stream",
          "name": "stderr",
          "text": [
            "Training: 100%|██████████| 613/613 [00:07<00:00, 84.17it/s]\n"
          ]
        },
        {
          "output_type": "stream",
          "name": "stdout",
          "text": [
            "Epoch 36/100: Train Loss: 0.9568, Val Binary F1: 0.9800, Val Macro F1: 0.5819, Combined Score: 0.7810\n"
          ]
        },
        {
          "output_type": "stream",
          "name": "stderr",
          "text": [
            "Training: 100%|██████████| 613/613 [00:07<00:00, 80.71it/s]\n"
          ]
        },
        {
          "output_type": "stream",
          "name": "stdout",
          "text": [
            "Epoch 37/100: Train Loss: 0.9475, Val Binary F1: 0.9784, Val Macro F1: 0.5837, Combined Score: 0.7810\n"
          ]
        },
        {
          "output_type": "stream",
          "name": "stderr",
          "text": [
            "Training: 100%|██████████| 613/613 [00:07<00:00, 84.02it/s]\n"
          ]
        },
        {
          "output_type": "stream",
          "name": "stdout",
          "text": [
            "Epoch 38/100: Train Loss: 0.9360, Val Binary F1: 0.9813, Val Macro F1: 0.5870, Combined Score: 0.7841\n"
          ]
        },
        {
          "output_type": "stream",
          "name": "stderr",
          "text": [
            "Training: 100%|██████████| 613/613 [00:07<00:00, 82.12it/s]\n"
          ]
        },
        {
          "output_type": "stream",
          "name": "stdout",
          "text": [
            "Epoch 39/100: Train Loss: 0.9258, Val Binary F1: 0.9818, Val Macro F1: 0.5929, Combined Score: 0.7873\n"
          ]
        },
        {
          "output_type": "stream",
          "name": "stderr",
          "text": [
            "Training: 100%|██████████| 613/613 [00:07<00:00, 80.56it/s]\n"
          ]
        },
        {
          "output_type": "stream",
          "name": "stdout",
          "text": [
            "Epoch 40/100: Train Loss: 0.9138, Val Binary F1: 0.9814, Val Macro F1: 0.5780, Combined Score: 0.7797\n"
          ]
        },
        {
          "output_type": "stream",
          "name": "stderr",
          "text": [
            "Training: 100%|██████████| 613/613 [00:07<00:00, 83.00it/s]\n"
          ]
        },
        {
          "output_type": "stream",
          "name": "stdout",
          "text": [
            "Epoch 41/100: Train Loss: 0.9073, Val Binary F1: 0.9853, Val Macro F1: 0.5888, Combined Score: 0.7870\n"
          ]
        },
        {
          "output_type": "stream",
          "name": "stderr",
          "text": [
            "Training: 100%|██████████| 613/613 [00:07<00:00, 82.17it/s]\n"
          ]
        },
        {
          "output_type": "stream",
          "name": "stdout",
          "text": [
            "Epoch 42/100: Train Loss: 0.8913, Val Binary F1: 0.9824, Val Macro F1: 0.5879, Combined Score: 0.7851\n"
          ]
        },
        {
          "output_type": "stream",
          "name": "stderr",
          "text": [
            "Training: 100%|██████████| 613/613 [00:07<00:00, 81.49it/s]\n"
          ]
        },
        {
          "output_type": "stream",
          "name": "stdout",
          "text": [
            "Epoch 43/100: Train Loss: 0.8837, Val Binary F1: 0.9798, Val Macro F1: 0.5861, Combined Score: 0.7830\n"
          ]
        },
        {
          "output_type": "stream",
          "name": "stderr",
          "text": [
            "Training: 100%|██████████| 613/613 [00:07<00:00, 83.14it/s]\n"
          ]
        },
        {
          "output_type": "stream",
          "name": "stdout",
          "text": [
            "Epoch 44/100: Train Loss: 0.8746, Val Binary F1: 0.9803, Val Macro F1: 0.5819, Combined Score: 0.7811\n"
          ]
        },
        {
          "output_type": "stream",
          "name": "stderr",
          "text": [
            "Training: 100%|██████████| 613/613 [00:07<00:00, 82.31it/s]\n"
          ]
        },
        {
          "output_type": "stream",
          "name": "stdout",
          "text": [
            "Epoch 45/100: Train Loss: 0.8743, Val Binary F1: 0.9828, Val Macro F1: 0.5758, Combined Score: 0.7793\n"
          ]
        },
        {
          "output_type": "stream",
          "name": "stderr",
          "text": [
            "Training: 100%|██████████| 613/613 [00:07<00:00, 82.72it/s]\n"
          ]
        },
        {
          "output_type": "stream",
          "name": "stdout",
          "text": [
            "Epoch 46/100: Train Loss: 0.8625, Val Binary F1: 0.9808, Val Macro F1: 0.5827, Combined Score: 0.7818\n"
          ]
        },
        {
          "output_type": "stream",
          "name": "stderr",
          "text": [
            "Training: 100%|██████████| 613/613 [00:07<00:00, 83.55it/s]\n"
          ]
        },
        {
          "output_type": "stream",
          "name": "stdout",
          "text": [
            "Epoch 47/100: Train Loss: 0.8548, Val Binary F1: 0.9808, Val Macro F1: 0.5871, Combined Score: 0.7839\n"
          ]
        },
        {
          "output_type": "stream",
          "name": "stderr",
          "text": [
            "Training: 100%|██████████| 613/613 [00:07<00:00, 82.91it/s]\n"
          ]
        },
        {
          "output_type": "stream",
          "name": "stdout",
          "text": [
            "Epoch 48/100: Train Loss: 0.8488, Val Binary F1: 0.9837, Val Macro F1: 0.5796, Combined Score: 0.7817\n"
          ]
        },
        {
          "output_type": "stream",
          "name": "stderr",
          "text": [
            "Training: 100%|██████████| 613/613 [00:07<00:00, 83.19it/s]\n"
          ]
        },
        {
          "output_type": "stream",
          "name": "stdout",
          "text": [
            "Epoch 49/100: Train Loss: 0.8464, Val Binary F1: 0.9814, Val Macro F1: 0.5940, Combined Score: 0.7877\n"
          ]
        },
        {
          "output_type": "stream",
          "name": "stderr",
          "text": [
            "Training: 100%|██████████| 613/613 [00:07<00:00, 81.16it/s]\n"
          ]
        },
        {
          "output_type": "stream",
          "name": "stdout",
          "text": [
            "Epoch 50/100: Train Loss: 0.8402, Val Binary F1: 0.9818, Val Macro F1: 0.5655, Combined Score: 0.7736\n",
            "Early stopping at epoch 50\n",
            "Fold 2 Best Score: 0.7934 (Binary: 0.9799, Macro: 0.6070)\n",
            "\n",
            "=== Fold 3/5 ===\n"
          ]
        },
        {
          "output_type": "stream",
          "name": "stderr",
          "text": [
            "Training: 100%|██████████| 616/616 [00:07<00:00, 82.02it/s]\n"
          ]
        },
        {
          "output_type": "stream",
          "name": "stdout",
          "text": [
            "Epoch 1/100: Train Loss: 2.5821, Val Binary F1: 0.9026, Val Macro F1: 0.2566, Combined Score: 0.5796\n"
          ]
        },
        {
          "output_type": "stream",
          "name": "stderr",
          "text": [
            "Training: 100%|██████████| 616/616 [00:07<00:00, 83.67it/s]\n"
          ]
        },
        {
          "output_type": "stream",
          "name": "stdout",
          "text": [
            "Epoch 2/100: Train Loss: 2.1639, Val Binary F1: 0.9378, Val Macro F1: 0.3494, Combined Score: 0.6436\n"
          ]
        },
        {
          "output_type": "stream",
          "name": "stderr",
          "text": [
            "Training: 100%|██████████| 616/616 [00:07<00:00, 80.37it/s]\n"
          ]
        },
        {
          "output_type": "stream",
          "name": "stdout",
          "text": [
            "Epoch 3/100: Train Loss: 1.9466, Val Binary F1: 0.9488, Val Macro F1: 0.3634, Combined Score: 0.6561\n"
          ]
        },
        {
          "output_type": "stream",
          "name": "stderr",
          "text": [
            "Training: 100%|██████████| 616/616 [00:07<00:00, 82.07it/s]\n"
          ]
        },
        {
          "output_type": "stream",
          "name": "stdout",
          "text": [
            "Epoch 4/100: Train Loss: 1.8359, Val Binary F1: 0.9555, Val Macro F1: 0.3842, Combined Score: 0.6699\n"
          ]
        },
        {
          "output_type": "stream",
          "name": "stderr",
          "text": [
            "Training: 100%|██████████| 616/616 [00:07<00:00, 83.96it/s]\n"
          ]
        },
        {
          "output_type": "stream",
          "name": "stdout",
          "text": [
            "Epoch 5/100: Train Loss: 1.7322, Val Binary F1: 0.9542, Val Macro F1: 0.4160, Combined Score: 0.6851\n"
          ]
        },
        {
          "output_type": "stream",
          "name": "stderr",
          "text": [
            "Training: 100%|██████████| 616/616 [00:07<00:00, 83.25it/s]\n"
          ]
        },
        {
          "output_type": "stream",
          "name": "stdout",
          "text": [
            "Epoch 6/100: Train Loss: 1.6622, Val Binary F1: 0.9641, Val Macro F1: 0.4483, Combined Score: 0.7062\n"
          ]
        },
        {
          "output_type": "stream",
          "name": "stderr",
          "text": [
            "Training: 100%|██████████| 616/616 [00:07<00:00, 81.86it/s]\n"
          ]
        },
        {
          "output_type": "stream",
          "name": "stdout",
          "text": [
            "Epoch 7/100: Train Loss: 1.6051, Val Binary F1: 0.9711, Val Macro F1: 0.4558, Combined Score: 0.7134\n"
          ]
        },
        {
          "output_type": "stream",
          "name": "stderr",
          "text": [
            "Training: 100%|██████████| 616/616 [00:07<00:00, 78.84it/s]\n"
          ]
        },
        {
          "output_type": "stream",
          "name": "stdout",
          "text": [
            "Epoch 8/100: Train Loss: 1.5651, Val Binary F1: 0.9736, Val Macro F1: 0.4714, Combined Score: 0.7225\n"
          ]
        },
        {
          "output_type": "stream",
          "name": "stderr",
          "text": [
            "Training: 100%|██████████| 616/616 [00:07<00:00, 81.96it/s]\n"
          ]
        },
        {
          "output_type": "stream",
          "name": "stdout",
          "text": [
            "Epoch 9/100: Train Loss: 1.5209, Val Binary F1: 0.9694, Val Macro F1: 0.5174, Combined Score: 0.7434\n"
          ]
        },
        {
          "output_type": "stream",
          "name": "stderr",
          "text": [
            "Training: 100%|██████████| 616/616 [00:07<00:00, 80.97it/s]\n"
          ]
        },
        {
          "output_type": "stream",
          "name": "stdout",
          "text": [
            "Epoch 10/100: Train Loss: 1.4850, Val Binary F1: 0.9709, Val Macro F1: 0.5036, Combined Score: 0.7373\n"
          ]
        },
        {
          "output_type": "stream",
          "name": "stderr",
          "text": [
            "Training: 100%|██████████| 616/616 [00:07<00:00, 81.84it/s]\n"
          ]
        },
        {
          "output_type": "stream",
          "name": "stdout",
          "text": [
            "Epoch 11/100: Train Loss: 1.4512, Val Binary F1: 0.9719, Val Macro F1: 0.5144, Combined Score: 0.7431\n"
          ]
        },
        {
          "output_type": "stream",
          "name": "stderr",
          "text": [
            "Training: 100%|██████████| 616/616 [00:07<00:00, 81.50it/s]\n"
          ]
        },
        {
          "output_type": "stream",
          "name": "stdout",
          "text": [
            "Epoch 12/100: Train Loss: 1.4151, Val Binary F1: 0.9730, Val Macro F1: 0.5198, Combined Score: 0.7464\n"
          ]
        },
        {
          "output_type": "stream",
          "name": "stderr",
          "text": [
            "Training: 100%|██████████| 616/616 [00:07<00:00, 79.71it/s]\n"
          ]
        },
        {
          "output_type": "stream",
          "name": "stdout",
          "text": [
            "Epoch 13/100: Train Loss: 1.3846, Val Binary F1: 0.9761, Val Macro F1: 0.5468, Combined Score: 0.7614\n"
          ]
        },
        {
          "output_type": "stream",
          "name": "stderr",
          "text": [
            "Training: 100%|██████████| 616/616 [00:07<00:00, 81.78it/s]\n"
          ]
        },
        {
          "output_type": "stream",
          "name": "stdout",
          "text": [
            "Epoch 14/100: Train Loss: 1.3556, Val Binary F1: 0.9787, Val Macro F1: 0.5269, Combined Score: 0.7528\n"
          ]
        },
        {
          "output_type": "stream",
          "name": "stderr",
          "text": [
            "Training: 100%|██████████| 616/616 [00:07<00:00, 81.39it/s]\n"
          ]
        },
        {
          "output_type": "stream",
          "name": "stdout",
          "text": [
            "Epoch 15/100: Train Loss: 1.3278, Val Binary F1: 0.9742, Val Macro F1: 0.5419, Combined Score: 0.7581\n"
          ]
        },
        {
          "output_type": "stream",
          "name": "stderr",
          "text": [
            "Training: 100%|██████████| 616/616 [00:07<00:00, 82.62it/s]\n"
          ]
        },
        {
          "output_type": "stream",
          "name": "stdout",
          "text": [
            "Epoch 16/100: Train Loss: 1.3041, Val Binary F1: 0.9751, Val Macro F1: 0.5415, Combined Score: 0.7583\n"
          ]
        },
        {
          "output_type": "stream",
          "name": "stderr",
          "text": [
            "Training: 100%|██████████| 616/616 [00:07<00:00, 82.68it/s]\n"
          ]
        },
        {
          "output_type": "stream",
          "name": "stdout",
          "text": [
            "Epoch 17/100: Train Loss: 1.2807, Val Binary F1: 0.9720, Val Macro F1: 0.5411, Combined Score: 0.7565\n"
          ]
        },
        {
          "output_type": "stream",
          "name": "stderr",
          "text": [
            "Training: 100%|██████████| 616/616 [00:07<00:00, 81.23it/s]\n"
          ]
        },
        {
          "output_type": "stream",
          "name": "stdout",
          "text": [
            "Epoch 18/100: Train Loss: 1.2497, Val Binary F1: 0.9777, Val Macro F1: 0.5380, Combined Score: 0.7578\n"
          ]
        },
        {
          "output_type": "stream",
          "name": "stderr",
          "text": [
            "Training: 100%|██████████| 616/616 [00:07<00:00, 83.24it/s]\n"
          ]
        },
        {
          "output_type": "stream",
          "name": "stdout",
          "text": [
            "Epoch 19/100: Train Loss: 1.2341, Val Binary F1: 0.9807, Val Macro F1: 0.5445, Combined Score: 0.7626\n"
          ]
        },
        {
          "output_type": "stream",
          "name": "stderr",
          "text": [
            "Training: 100%|██████████| 616/616 [00:07<00:00, 82.36it/s]\n"
          ]
        },
        {
          "output_type": "stream",
          "name": "stdout",
          "text": [
            "Epoch 20/100: Train Loss: 1.2067, Val Binary F1: 0.9776, Val Macro F1: 0.5517, Combined Score: 0.7646\n"
          ]
        },
        {
          "output_type": "stream",
          "name": "stderr",
          "text": [
            "Training: 100%|██████████| 616/616 [00:07<00:00, 80.31it/s]\n"
          ]
        },
        {
          "output_type": "stream",
          "name": "stdout",
          "text": [
            "Epoch 21/100: Train Loss: 1.1801, Val Binary F1: 0.9750, Val Macro F1: 0.5693, Combined Score: 0.7722\n"
          ]
        },
        {
          "output_type": "stream",
          "name": "stderr",
          "text": [
            "Training: 100%|██████████| 616/616 [00:07<00:00, 82.97it/s]\n"
          ]
        },
        {
          "output_type": "stream",
          "name": "stdout",
          "text": [
            "Epoch 22/100: Train Loss: 1.1595, Val Binary F1: 0.9755, Val Macro F1: 0.5661, Combined Score: 0.7708\n"
          ]
        },
        {
          "output_type": "stream",
          "name": "stderr",
          "text": [
            "Training: 100%|██████████| 616/616 [00:07<00:00, 82.57it/s]\n"
          ]
        },
        {
          "output_type": "stream",
          "name": "stdout",
          "text": [
            "Epoch 23/100: Train Loss: 1.1484, Val Binary F1: 0.9823, Val Macro F1: 0.5652, Combined Score: 0.7737\n"
          ]
        },
        {
          "output_type": "stream",
          "name": "stderr",
          "text": [
            "Training: 100%|██████████| 616/616 [00:07<00:00, 80.64it/s]\n"
          ]
        },
        {
          "output_type": "stream",
          "name": "stdout",
          "text": [
            "Epoch 24/100: Train Loss: 1.1247, Val Binary F1: 0.9750, Val Macro F1: 0.5623, Combined Score: 0.7686\n"
          ]
        },
        {
          "output_type": "stream",
          "name": "stderr",
          "text": [
            "Training: 100%|██████████| 616/616 [00:07<00:00, 82.60it/s]\n"
          ]
        },
        {
          "output_type": "stream",
          "name": "stdout",
          "text": [
            "Epoch 25/100: Train Loss: 1.1082, Val Binary F1: 0.9797, Val Macro F1: 0.5681, Combined Score: 0.7739\n"
          ]
        },
        {
          "output_type": "stream",
          "name": "stderr",
          "text": [
            "Training: 100%|██████████| 616/616 [00:07<00:00, 80.42it/s]\n"
          ]
        },
        {
          "output_type": "stream",
          "name": "stdout",
          "text": [
            "Epoch 26/100: Train Loss: 1.0798, Val Binary F1: 0.9766, Val Macro F1: 0.5671, Combined Score: 0.7719\n"
          ]
        },
        {
          "output_type": "stream",
          "name": "stderr",
          "text": [
            "Training: 100%|██████████| 616/616 [00:07<00:00, 80.90it/s]\n"
          ]
        },
        {
          "output_type": "stream",
          "name": "stdout",
          "text": [
            "Epoch 27/100: Train Loss: 1.0705, Val Binary F1: 0.9740, Val Macro F1: 0.5714, Combined Score: 0.7727\n"
          ]
        },
        {
          "output_type": "stream",
          "name": "stderr",
          "text": [
            "Training: 100%|██████████| 616/616 [00:07<00:00, 80.51it/s]\n"
          ]
        },
        {
          "output_type": "stream",
          "name": "stdout",
          "text": [
            "Epoch 28/100: Train Loss: 1.0557, Val Binary F1: 0.9772, Val Macro F1: 0.5777, Combined Score: 0.7775\n"
          ]
        },
        {
          "output_type": "stream",
          "name": "stderr",
          "text": [
            "Training: 100%|██████████| 616/616 [00:07<00:00, 82.02it/s]\n"
          ]
        },
        {
          "output_type": "stream",
          "name": "stdout",
          "text": [
            "Epoch 29/100: Train Loss: 1.0300, Val Binary F1: 0.9755, Val Macro F1: 0.5563, Combined Score: 0.7659\n"
          ]
        },
        {
          "output_type": "stream",
          "name": "stderr",
          "text": [
            "Training: 100%|██████████| 616/616 [00:07<00:00, 81.90it/s]\n"
          ]
        },
        {
          "output_type": "stream",
          "name": "stdout",
          "text": [
            "Epoch 30/100: Train Loss: 1.0139, Val Binary F1: 0.9751, Val Macro F1: 0.5659, Combined Score: 0.7705\n"
          ]
        },
        {
          "output_type": "stream",
          "name": "stderr",
          "text": [
            "Training: 100%|██████████| 616/616 [00:07<00:00, 83.07it/s]\n"
          ]
        },
        {
          "output_type": "stream",
          "name": "stdout",
          "text": [
            "Epoch 31/100: Train Loss: 1.0049, Val Binary F1: 0.9771, Val Macro F1: 0.5588, Combined Score: 0.7679\n"
          ]
        },
        {
          "output_type": "stream",
          "name": "stderr",
          "text": [
            "Training: 100%|██████████| 616/616 [00:07<00:00, 80.13it/s]\n"
          ]
        },
        {
          "output_type": "stream",
          "name": "stdout",
          "text": [
            "Epoch 32/100: Train Loss: 0.9913, Val Binary F1: 0.9752, Val Macro F1: 0.5456, Combined Score: 0.7604\n"
          ]
        },
        {
          "output_type": "stream",
          "name": "stderr",
          "text": [
            "Training: 100%|██████████| 616/616 [00:07<00:00, 82.43it/s]\n"
          ]
        },
        {
          "output_type": "stream",
          "name": "stdout",
          "text": [
            "Epoch 33/100: Train Loss: 0.9777, Val Binary F1: 0.9710, Val Macro F1: 0.5469, Combined Score: 0.7589\n"
          ]
        },
        {
          "output_type": "stream",
          "name": "stderr",
          "text": [
            "Training: 100%|██████████| 616/616 [00:07<00:00, 80.38it/s]\n"
          ]
        },
        {
          "output_type": "stream",
          "name": "stdout",
          "text": [
            "Epoch 34/100: Train Loss: 0.9613, Val Binary F1: 0.9725, Val Macro F1: 0.5495, Combined Score: 0.7610\n"
          ]
        },
        {
          "output_type": "stream",
          "name": "stderr",
          "text": [
            "Training: 100%|██████████| 616/616 [00:07<00:00, 81.49it/s]\n"
          ]
        },
        {
          "output_type": "stream",
          "name": "stdout",
          "text": [
            "Epoch 35/100: Train Loss: 0.9504, Val Binary F1: 0.9713, Val Macro F1: 0.5554, Combined Score: 0.7633\n"
          ]
        },
        {
          "output_type": "stream",
          "name": "stderr",
          "text": [
            "Training: 100%|██████████| 616/616 [00:07<00:00, 83.43it/s]\n"
          ]
        },
        {
          "output_type": "stream",
          "name": "stdout",
          "text": [
            "Epoch 36/100: Train Loss: 0.9395, Val Binary F1: 0.9767, Val Macro F1: 0.5585, Combined Score: 0.7676\n"
          ]
        },
        {
          "output_type": "stream",
          "name": "stderr",
          "text": [
            "Training: 100%|██████████| 616/616 [00:07<00:00, 82.70it/s]\n"
          ]
        },
        {
          "output_type": "stream",
          "name": "stdout",
          "text": [
            "Epoch 37/100: Train Loss: 0.9300, Val Binary F1: 0.9724, Val Macro F1: 0.5417, Combined Score: 0.7570\n"
          ]
        },
        {
          "output_type": "stream",
          "name": "stderr",
          "text": [
            "Training: 100%|██████████| 616/616 [00:07<00:00, 82.24it/s]\n"
          ]
        },
        {
          "output_type": "stream",
          "name": "stdout",
          "text": [
            "Epoch 38/100: Train Loss: 0.9146, Val Binary F1: 0.9793, Val Macro F1: 0.5546, Combined Score: 0.7669\n"
          ]
        },
        {
          "output_type": "stream",
          "name": "stderr",
          "text": [
            "Training: 100%|██████████| 616/616 [00:07<00:00, 80.45it/s]\n"
          ]
        },
        {
          "output_type": "stream",
          "name": "stdout",
          "text": [
            "Epoch 39/100: Train Loss: 0.9016, Val Binary F1: 0.9702, Val Macro F1: 0.5383, Combined Score: 0.7543\n"
          ]
        },
        {
          "output_type": "stream",
          "name": "stderr",
          "text": [
            "Training: 100%|██████████| 616/616 [00:07<00:00, 80.08it/s]\n"
          ]
        },
        {
          "output_type": "stream",
          "name": "stdout",
          "text": [
            "Epoch 40/100: Train Loss: 0.8988, Val Binary F1: 0.9713, Val Macro F1: 0.5475, Combined Score: 0.7594\n"
          ]
        },
        {
          "output_type": "stream",
          "name": "stderr",
          "text": [
            "Training: 100%|██████████| 616/616 [00:07<00:00, 81.26it/s]\n"
          ]
        },
        {
          "output_type": "stream",
          "name": "stdout",
          "text": [
            "Epoch 41/100: Train Loss: 0.8917, Val Binary F1: 0.9725, Val Macro F1: 0.5550, Combined Score: 0.7637\n"
          ]
        },
        {
          "output_type": "stream",
          "name": "stderr",
          "text": [
            "Training: 100%|██████████| 616/616 [00:07<00:00, 81.47it/s]\n"
          ]
        },
        {
          "output_type": "stream",
          "name": "stdout",
          "text": [
            "Epoch 42/100: Train Loss: 0.8819, Val Binary F1: 0.9725, Val Macro F1: 0.5417, Combined Score: 0.7571\n"
          ]
        },
        {
          "output_type": "stream",
          "name": "stderr",
          "text": [
            "Training: 100%|██████████| 616/616 [00:07<00:00, 81.77it/s]\n"
          ]
        },
        {
          "output_type": "stream",
          "name": "stdout",
          "text": [
            "Epoch 43/100: Train Loss: 0.8735, Val Binary F1: 0.9729, Val Macro F1: 0.5350, Combined Score: 0.7540\n",
            "Early stopping at epoch 43\n",
            "Fold 3 Best Score: 0.7775 (Binary: 0.9772, Macro: 0.5777)\n",
            "\n",
            "=== Fold 4/5 ===\n"
          ]
        },
        {
          "output_type": "stream",
          "name": "stderr",
          "text": [
            "Training: 100%|██████████| 612/612 [00:07<00:00, 81.61it/s]\n"
          ]
        },
        {
          "output_type": "stream",
          "name": "stdout",
          "text": [
            "Epoch 1/100: Train Loss: 2.5858, Val Binary F1: 0.9119, Val Macro F1: 0.2406, Combined Score: 0.5762\n"
          ]
        },
        {
          "output_type": "stream",
          "name": "stderr",
          "text": [
            "Training: 100%|██████████| 612/612 [00:07<00:00, 82.03it/s]\n"
          ]
        },
        {
          "output_type": "stream",
          "name": "stdout",
          "text": [
            "Epoch 2/100: Train Loss: 2.1500, Val Binary F1: 0.9352, Val Macro F1: 0.3283, Combined Score: 0.6317\n"
          ]
        },
        {
          "output_type": "stream",
          "name": "stderr",
          "text": [
            "Training: 100%|██████████| 612/612 [00:07<00:00, 81.40it/s]\n"
          ]
        },
        {
          "output_type": "stream",
          "name": "stdout",
          "text": [
            "Epoch 3/100: Train Loss: 1.9340, Val Binary F1: 0.9483, Val Macro F1: 0.3846, Combined Score: 0.6664\n"
          ]
        },
        {
          "output_type": "stream",
          "name": "stderr",
          "text": [
            "Training: 100%|██████████| 612/612 [00:07<00:00, 82.12it/s]\n"
          ]
        },
        {
          "output_type": "stream",
          "name": "stdout",
          "text": [
            "Epoch 4/100: Train Loss: 1.8198, Val Binary F1: 0.9611, Val Macro F1: 0.4279, Combined Score: 0.6945\n"
          ]
        },
        {
          "output_type": "stream",
          "name": "stderr",
          "text": [
            "Training: 100%|██████████| 612/612 [00:07<00:00, 81.84it/s]\n"
          ]
        },
        {
          "output_type": "stream",
          "name": "stdout",
          "text": [
            "Epoch 5/100: Train Loss: 1.7264, Val Binary F1: 0.9662, Val Macro F1: 0.4698, Combined Score: 0.7180\n"
          ]
        },
        {
          "output_type": "stream",
          "name": "stderr",
          "text": [
            "Training: 100%|██████████| 612/612 [00:07<00:00, 80.63it/s]\n"
          ]
        },
        {
          "output_type": "stream",
          "name": "stdout",
          "text": [
            "Epoch 6/100: Train Loss: 1.6570, Val Binary F1: 0.9714, Val Macro F1: 0.4984, Combined Score: 0.7349\n"
          ]
        },
        {
          "output_type": "stream",
          "name": "stderr",
          "text": [
            "Training: 100%|██████████| 612/612 [00:07<00:00, 80.33it/s]\n"
          ]
        },
        {
          "output_type": "stream",
          "name": "stdout",
          "text": [
            "Epoch 7/100: Train Loss: 1.5983, Val Binary F1: 0.9698, Val Macro F1: 0.5080, Combined Score: 0.7389\n"
          ]
        },
        {
          "output_type": "stream",
          "name": "stderr",
          "text": [
            "Training: 100%|██████████| 612/612 [00:07<00:00, 82.61it/s]\n"
          ]
        },
        {
          "output_type": "stream",
          "name": "stdout",
          "text": [
            "Epoch 8/100: Train Loss: 1.5488, Val Binary F1: 0.9744, Val Macro F1: 0.5345, Combined Score: 0.7544\n"
          ]
        },
        {
          "output_type": "stream",
          "name": "stderr",
          "text": [
            "Training: 100%|██████████| 612/612 [00:07<00:00, 78.90it/s]\n"
          ]
        },
        {
          "output_type": "stream",
          "name": "stdout",
          "text": [
            "Epoch 9/100: Train Loss: 1.5079, Val Binary F1: 0.9739, Val Macro F1: 0.5349, Combined Score: 0.7544\n"
          ]
        },
        {
          "output_type": "stream",
          "name": "stderr",
          "text": [
            "Training: 100%|██████████| 612/612 [00:08<00:00, 75.85it/s]\n"
          ]
        },
        {
          "output_type": "stream",
          "name": "stdout",
          "text": [
            "Epoch 10/100: Train Loss: 1.4746, Val Binary F1: 0.9729, Val Macro F1: 0.5450, Combined Score: 0.7589\n"
          ]
        },
        {
          "output_type": "stream",
          "name": "stderr",
          "text": [
            "Training: 100%|██████████| 612/612 [00:07<00:00, 83.90it/s]\n"
          ]
        },
        {
          "output_type": "stream",
          "name": "stdout",
          "text": [
            "Epoch 11/100: Train Loss: 1.4351, Val Binary F1: 0.9774, Val Macro F1: 0.5434, Combined Score: 0.7604\n"
          ]
        },
        {
          "output_type": "stream",
          "name": "stderr",
          "text": [
            "Training: 100%|██████████| 612/612 [00:07<00:00, 82.45it/s]\n"
          ]
        },
        {
          "output_type": "stream",
          "name": "stdout",
          "text": [
            "Epoch 12/100: Train Loss: 1.4076, Val Binary F1: 0.9782, Val Macro F1: 0.5579, Combined Score: 0.7681\n"
          ]
        },
        {
          "output_type": "stream",
          "name": "stderr",
          "text": [
            "Training: 100%|██████████| 612/612 [00:07<00:00, 82.81it/s]\n"
          ]
        },
        {
          "output_type": "stream",
          "name": "stdout",
          "text": [
            "Epoch 13/100: Train Loss: 1.3865, Val Binary F1: 0.9780, Val Macro F1: 0.5613, Combined Score: 0.7696\n"
          ]
        },
        {
          "output_type": "stream",
          "name": "stderr",
          "text": [
            "Training: 100%|██████████| 612/612 [00:07<00:00, 81.78it/s]\n"
          ]
        },
        {
          "output_type": "stream",
          "name": "stdout",
          "text": [
            "Epoch 14/100: Train Loss: 1.3528, Val Binary F1: 0.9778, Val Macro F1: 0.5528, Combined Score: 0.7653\n"
          ]
        },
        {
          "output_type": "stream",
          "name": "stderr",
          "text": [
            "Training: 100%|██████████| 612/612 [00:07<00:00, 80.45it/s]\n"
          ]
        },
        {
          "output_type": "stream",
          "name": "stdout",
          "text": [
            "Epoch 15/100: Train Loss: 1.3309, Val Binary F1: 0.9793, Val Macro F1: 0.5616, Combined Score: 0.7704\n"
          ]
        },
        {
          "output_type": "stream",
          "name": "stderr",
          "text": [
            "Training: 100%|██████████| 612/612 [00:07<00:00, 80.51it/s]\n"
          ]
        },
        {
          "output_type": "stream",
          "name": "stdout",
          "text": [
            "Epoch 16/100: Train Loss: 1.3041, Val Binary F1: 0.9813, Val Macro F1: 0.5721, Combined Score: 0.7767\n"
          ]
        },
        {
          "output_type": "stream",
          "name": "stderr",
          "text": [
            "Training: 100%|██████████| 612/612 [00:07<00:00, 83.47it/s]\n"
          ]
        },
        {
          "output_type": "stream",
          "name": "stdout",
          "text": [
            "Epoch 17/100: Train Loss: 1.2753, Val Binary F1: 0.9772, Val Macro F1: 0.5682, Combined Score: 0.7727\n"
          ]
        },
        {
          "output_type": "stream",
          "name": "stderr",
          "text": [
            "Training: 100%|██████████| 612/612 [00:07<00:00, 82.16it/s]\n"
          ]
        },
        {
          "output_type": "stream",
          "name": "stdout",
          "text": [
            "Epoch 18/100: Train Loss: 1.2604, Val Binary F1: 0.9782, Val Macro F1: 0.5639, Combined Score: 0.7711\n"
          ]
        },
        {
          "output_type": "stream",
          "name": "stderr",
          "text": [
            "Training: 100%|██████████| 612/612 [00:07<00:00, 82.73it/s]\n"
          ]
        },
        {
          "output_type": "stream",
          "name": "stdout",
          "text": [
            "Epoch 19/100: Train Loss: 1.2365, Val Binary F1: 0.9794, Val Macro F1: 0.5802, Combined Score: 0.7798\n"
          ]
        },
        {
          "output_type": "stream",
          "name": "stderr",
          "text": [
            "Training: 100%|██████████| 612/612 [00:07<00:00, 79.77it/s]\n"
          ]
        },
        {
          "output_type": "stream",
          "name": "stdout",
          "text": [
            "Epoch 20/100: Train Loss: 1.2120, Val Binary F1: 0.9813, Val Macro F1: 0.5814, Combined Score: 0.7814\n"
          ]
        },
        {
          "output_type": "stream",
          "name": "stderr",
          "text": [
            "Training: 100%|██████████| 612/612 [00:07<00:00, 81.77it/s]\n"
          ]
        },
        {
          "output_type": "stream",
          "name": "stdout",
          "text": [
            "Epoch 21/100: Train Loss: 1.1903, Val Binary F1: 0.9813, Val Macro F1: 0.5752, Combined Score: 0.7782\n"
          ]
        },
        {
          "output_type": "stream",
          "name": "stderr",
          "text": [
            "Training: 100%|██████████| 612/612 [00:07<00:00, 81.97it/s]\n"
          ]
        },
        {
          "output_type": "stream",
          "name": "stdout",
          "text": [
            "Epoch 22/100: Train Loss: 1.1739, Val Binary F1: 0.9812, Val Macro F1: 0.5665, Combined Score: 0.7738\n"
          ]
        },
        {
          "output_type": "stream",
          "name": "stderr",
          "text": [
            "Training: 100%|██████████| 612/612 [00:07<00:00, 81.42it/s]\n"
          ]
        },
        {
          "output_type": "stream",
          "name": "stdout",
          "text": [
            "Epoch 23/100: Train Loss: 1.1564, Val Binary F1: 0.9823, Val Macro F1: 0.5797, Combined Score: 0.7810\n"
          ]
        },
        {
          "output_type": "stream",
          "name": "stderr",
          "text": [
            "Training: 100%|██████████| 612/612 [00:07<00:00, 79.13it/s]\n"
          ]
        },
        {
          "output_type": "stream",
          "name": "stdout",
          "text": [
            "Epoch 24/100: Train Loss: 1.1366, Val Binary F1: 0.9817, Val Macro F1: 0.5889, Combined Score: 0.7853\n"
          ]
        },
        {
          "output_type": "stream",
          "name": "stderr",
          "text": [
            "Training: 100%|██████████| 612/612 [00:07<00:00, 83.69it/s]\n"
          ]
        },
        {
          "output_type": "stream",
          "name": "stdout",
          "text": [
            "Epoch 25/100: Train Loss: 1.1205, Val Binary F1: 0.9819, Val Macro F1: 0.5764, Combined Score: 0.7791\n"
          ]
        },
        {
          "output_type": "stream",
          "name": "stderr",
          "text": [
            "Training: 100%|██████████| 612/612 [00:07<00:00, 81.64it/s]\n"
          ]
        },
        {
          "output_type": "stream",
          "name": "stdout",
          "text": [
            "Epoch 26/100: Train Loss: 1.0919, Val Binary F1: 0.9813, Val Macro F1: 0.5801, Combined Score: 0.7807\n"
          ]
        },
        {
          "output_type": "stream",
          "name": "stderr",
          "text": [
            "Training: 100%|██████████| 612/612 [00:07<00:00, 83.05it/s]\n"
          ]
        },
        {
          "output_type": "stream",
          "name": "stdout",
          "text": [
            "Epoch 27/100: Train Loss: 1.0771, Val Binary F1: 0.9758, Val Macro F1: 0.5867, Combined Score: 0.7812\n"
          ]
        },
        {
          "output_type": "stream",
          "name": "stderr",
          "text": [
            "Training: 100%|██████████| 612/612 [00:07<00:00, 80.99it/s]\n"
          ]
        },
        {
          "output_type": "stream",
          "name": "stdout",
          "text": [
            "Epoch 28/100: Train Loss: 1.0591, Val Binary F1: 0.9747, Val Macro F1: 0.5838, Combined Score: 0.7793\n"
          ]
        },
        {
          "output_type": "stream",
          "name": "stderr",
          "text": [
            "Training: 100%|██████████| 612/612 [00:07<00:00, 81.70it/s]\n"
          ]
        },
        {
          "output_type": "stream",
          "name": "stdout",
          "text": [
            "Epoch 29/100: Train Loss: 1.0432, Val Binary F1: 0.9799, Val Macro F1: 0.5858, Combined Score: 0.7828\n"
          ]
        },
        {
          "output_type": "stream",
          "name": "stderr",
          "text": [
            "Training: 100%|██████████| 612/612 [00:07<00:00, 83.22it/s]\n"
          ]
        },
        {
          "output_type": "stream",
          "name": "stdout",
          "text": [
            "Epoch 30/100: Train Loss: 1.0243, Val Binary F1: 0.9769, Val Macro F1: 0.5903, Combined Score: 0.7836\n"
          ]
        },
        {
          "output_type": "stream",
          "name": "stderr",
          "text": [
            "Training: 100%|██████████| 612/612 [00:07<00:00, 78.30it/s]\n"
          ]
        },
        {
          "output_type": "stream",
          "name": "stdout",
          "text": [
            "Epoch 31/100: Train Loss: 1.0117, Val Binary F1: 0.9839, Val Macro F1: 0.5908, Combined Score: 0.7873\n"
          ]
        },
        {
          "output_type": "stream",
          "name": "stderr",
          "text": [
            "Training: 100%|██████████| 612/612 [00:07<00:00, 81.57it/s]\n"
          ]
        },
        {
          "output_type": "stream",
          "name": "stdout",
          "text": [
            "Epoch 32/100: Train Loss: 0.9968, Val Binary F1: 0.9843, Val Macro F1: 0.5787, Combined Score: 0.7815\n"
          ]
        },
        {
          "output_type": "stream",
          "name": "stderr",
          "text": [
            "Training: 100%|██████████| 612/612 [00:07<00:00, 78.88it/s]\n"
          ]
        },
        {
          "output_type": "stream",
          "name": "stdout",
          "text": [
            "Epoch 33/100: Train Loss: 0.9835, Val Binary F1: 0.9823, Val Macro F1: 0.5802, Combined Score: 0.7813\n"
          ]
        },
        {
          "output_type": "stream",
          "name": "stderr",
          "text": [
            "Training: 100%|██████████| 612/612 [00:07<00:00, 81.77it/s]\n"
          ]
        },
        {
          "output_type": "stream",
          "name": "stdout",
          "text": [
            "Epoch 34/100: Train Loss: 0.9757, Val Binary F1: 0.9843, Val Macro F1: 0.5921, Combined Score: 0.7882\n"
          ]
        },
        {
          "output_type": "stream",
          "name": "stderr",
          "text": [
            "Training: 100%|██████████| 612/612 [00:07<00:00, 83.24it/s]\n"
          ]
        },
        {
          "output_type": "stream",
          "name": "stdout",
          "text": [
            "Epoch 35/100: Train Loss: 0.9607, Val Binary F1: 0.9819, Val Macro F1: 0.5949, Combined Score: 0.7884\n"
          ]
        },
        {
          "output_type": "stream",
          "name": "stderr",
          "text": [
            "Training: 100%|██████████| 612/612 [00:07<00:00, 83.68it/s]\n"
          ]
        },
        {
          "output_type": "stream",
          "name": "stdout",
          "text": [
            "Epoch 36/100: Train Loss: 0.9447, Val Binary F1: 0.9819, Val Macro F1: 0.5789, Combined Score: 0.7804\n"
          ]
        },
        {
          "output_type": "stream",
          "name": "stderr",
          "text": [
            "Training: 100%|██████████| 612/612 [00:08<00:00, 76.31it/s]\n"
          ]
        },
        {
          "output_type": "stream",
          "name": "stdout",
          "text": [
            "Epoch 37/100: Train Loss: 0.9409, Val Binary F1: 0.9800, Val Macro F1: 0.5883, Combined Score: 0.7841\n"
          ]
        },
        {
          "output_type": "stream",
          "name": "stderr",
          "text": [
            "Training: 100%|██████████| 612/612 [00:07<00:00, 77.68it/s]\n"
          ]
        },
        {
          "output_type": "stream",
          "name": "stdout",
          "text": [
            "Epoch 38/100: Train Loss: 0.9273, Val Binary F1: 0.9848, Val Macro F1: 0.5937, Combined Score: 0.7893\n"
          ]
        },
        {
          "output_type": "stream",
          "name": "stderr",
          "text": [
            "Training: 100%|██████████| 612/612 [00:07<00:00, 78.72it/s]\n"
          ]
        },
        {
          "output_type": "stream",
          "name": "stdout",
          "text": [
            "Epoch 39/100: Train Loss: 0.9120, Val Binary F1: 0.9804, Val Macro F1: 0.5913, Combined Score: 0.7858\n"
          ]
        },
        {
          "output_type": "stream",
          "name": "stderr",
          "text": [
            "Training: 100%|██████████| 612/612 [00:07<00:00, 80.65it/s]\n"
          ]
        },
        {
          "output_type": "stream",
          "name": "stdout",
          "text": [
            "Epoch 40/100: Train Loss: 0.9055, Val Binary F1: 0.9798, Val Macro F1: 0.5831, Combined Score: 0.7815\n"
          ]
        },
        {
          "output_type": "stream",
          "name": "stderr",
          "text": [
            "Training: 100%|██████████| 612/612 [00:07<00:00, 82.44it/s]\n"
          ]
        },
        {
          "output_type": "stream",
          "name": "stdout",
          "text": [
            "Epoch 41/100: Train Loss: 0.8972, Val Binary F1: 0.9813, Val Macro F1: 0.5654, Combined Score: 0.7734\n"
          ]
        },
        {
          "output_type": "stream",
          "name": "stderr",
          "text": [
            "Training: 100%|██████████| 612/612 [00:07<00:00, 77.29it/s]\n"
          ]
        },
        {
          "output_type": "stream",
          "name": "stdout",
          "text": [
            "Epoch 42/100: Train Loss: 0.8847, Val Binary F1: 0.9789, Val Macro F1: 0.5807, Combined Score: 0.7798\n"
          ]
        },
        {
          "output_type": "stream",
          "name": "stderr",
          "text": [
            "Training: 100%|██████████| 612/612 [00:07<00:00, 82.61it/s]\n"
          ]
        },
        {
          "output_type": "stream",
          "name": "stdout",
          "text": [
            "Epoch 43/100: Train Loss: 0.8750, Val Binary F1: 0.9828, Val Macro F1: 0.5847, Combined Score: 0.7838\n"
          ]
        },
        {
          "output_type": "stream",
          "name": "stderr",
          "text": [
            "Training: 100%|██████████| 612/612 [00:07<00:00, 82.88it/s]\n"
          ]
        },
        {
          "output_type": "stream",
          "name": "stdout",
          "text": [
            "Epoch 44/100: Train Loss: 0.8716, Val Binary F1: 0.9795, Val Macro F1: 0.5910, Combined Score: 0.7852\n"
          ]
        },
        {
          "output_type": "stream",
          "name": "stderr",
          "text": [
            "Training: 100%|██████████| 612/612 [00:07<00:00, 77.93it/s]\n"
          ]
        },
        {
          "output_type": "stream",
          "name": "stdout",
          "text": [
            "Epoch 45/100: Train Loss: 0.8605, Val Binary F1: 0.9838, Val Macro F1: 0.5893, Combined Score: 0.7865\n"
          ]
        },
        {
          "output_type": "stream",
          "name": "stderr",
          "text": [
            "Training: 100%|██████████| 612/612 [00:07<00:00, 80.93it/s]\n"
          ]
        },
        {
          "output_type": "stream",
          "name": "stdout",
          "text": [
            "Epoch 46/100: Train Loss: 0.8537, Val Binary F1: 0.9807, Val Macro F1: 0.5907, Combined Score: 0.7857\n"
          ]
        },
        {
          "output_type": "stream",
          "name": "stderr",
          "text": [
            "Training: 100%|██████████| 612/612 [00:07<00:00, 83.88it/s]\n"
          ]
        },
        {
          "output_type": "stream",
          "name": "stdout",
          "text": [
            "Epoch 47/100: Train Loss: 0.8495, Val Binary F1: 0.9798, Val Macro F1: 0.5881, Combined Score: 0.7839\n"
          ]
        },
        {
          "output_type": "stream",
          "name": "stderr",
          "text": [
            "Training: 100%|██████████| 612/612 [00:07<00:00, 82.91it/s]\n"
          ]
        },
        {
          "output_type": "stream",
          "name": "stdout",
          "text": [
            "Epoch 48/100: Train Loss: 0.8374, Val Binary F1: 0.9778, Val Macro F1: 0.5791, Combined Score: 0.7785\n"
          ]
        },
        {
          "output_type": "stream",
          "name": "stderr",
          "text": [
            "Training: 100%|██████████| 612/612 [00:07<00:00, 82.40it/s]\n"
          ]
        },
        {
          "output_type": "stream",
          "name": "stdout",
          "text": [
            "Epoch 49/100: Train Loss: 0.8382, Val Binary F1: 0.9852, Val Macro F1: 0.5709, Combined Score: 0.7780\n"
          ]
        },
        {
          "output_type": "stream",
          "name": "stderr",
          "text": [
            "Training: 100%|██████████| 612/612 [00:07<00:00, 84.71it/s]\n"
          ]
        },
        {
          "output_type": "stream",
          "name": "stdout",
          "text": [
            "Epoch 50/100: Train Loss: 0.8332, Val Binary F1: 0.9782, Val Macro F1: 0.5879, Combined Score: 0.7831\n"
          ]
        },
        {
          "output_type": "stream",
          "name": "stderr",
          "text": [
            "Training: 100%|██████████| 612/612 [00:07<00:00, 80.75it/s]\n"
          ]
        },
        {
          "output_type": "stream",
          "name": "stdout",
          "text": [
            "Epoch 51/100: Train Loss: 0.8283, Val Binary F1: 0.9818, Val Macro F1: 0.5862, Combined Score: 0.7840\n"
          ]
        },
        {
          "output_type": "stream",
          "name": "stderr",
          "text": [
            "Training: 100%|██████████| 612/612 [00:07<00:00, 79.64it/s]\n"
          ]
        },
        {
          "output_type": "stream",
          "name": "stdout",
          "text": [
            "Epoch 52/100: Train Loss: 0.8194, Val Binary F1: 0.9810, Val Macro F1: 0.5925, Combined Score: 0.7867\n"
          ]
        },
        {
          "output_type": "stream",
          "name": "stderr",
          "text": [
            "Training: 100%|██████████| 612/612 [00:07<00:00, 82.05it/s]\n"
          ]
        },
        {
          "output_type": "stream",
          "name": "stdout",
          "text": [
            "Epoch 53/100: Train Loss: 0.8177, Val Binary F1: 0.9803, Val Macro F1: 0.5790, Combined Score: 0.7797\n",
            "Early stopping at epoch 53\n",
            "Fold 4 Best Score: 0.7893 (Binary: 0.9848, Macro: 0.5937)\n",
            "\n",
            "=== Fold 5/5 ===\n"
          ]
        },
        {
          "output_type": "stream",
          "name": "stderr",
          "text": [
            "Training: 100%|██████████| 607/607 [00:07<00:00, 82.77it/s]\n"
          ]
        },
        {
          "output_type": "stream",
          "name": "stdout",
          "text": [
            "Epoch 1/100: Train Loss: 2.5541, Val Binary F1: 0.9063, Val Macro F1: 0.2579, Combined Score: 0.5821\n"
          ]
        },
        {
          "output_type": "stream",
          "name": "stderr",
          "text": [
            "Training: 100%|██████████| 607/607 [00:07<00:00, 82.63it/s]\n"
          ]
        },
        {
          "output_type": "stream",
          "name": "stdout",
          "text": [
            "Epoch 2/100: Train Loss: 2.1302, Val Binary F1: 0.9438, Val Macro F1: 0.3555, Combined Score: 0.6496\n"
          ]
        },
        {
          "output_type": "stream",
          "name": "stderr",
          "text": [
            "Training: 100%|██████████| 607/607 [00:07<00:00, 81.95it/s]\n"
          ]
        },
        {
          "output_type": "stream",
          "name": "stdout",
          "text": [
            "Epoch 3/100: Train Loss: 1.9324, Val Binary F1: 0.9583, Val Macro F1: 0.3958, Combined Score: 0.6771\n"
          ]
        },
        {
          "output_type": "stream",
          "name": "stderr",
          "text": [
            "Training: 100%|██████████| 607/607 [00:07<00:00, 82.63it/s]\n"
          ]
        },
        {
          "output_type": "stream",
          "name": "stdout",
          "text": [
            "Epoch 4/100: Train Loss: 1.8058, Val Binary F1: 0.9598, Val Macro F1: 0.4402, Combined Score: 0.7000\n"
          ]
        },
        {
          "output_type": "stream",
          "name": "stderr",
          "text": [
            "Training: 100%|██████████| 607/607 [00:07<00:00, 80.45it/s]\n"
          ]
        },
        {
          "output_type": "stream",
          "name": "stdout",
          "text": [
            "Epoch 5/100: Train Loss: 1.7314, Val Binary F1: 0.9672, Val Macro F1: 0.4677, Combined Score: 0.7175\n"
          ]
        },
        {
          "output_type": "stream",
          "name": "stderr",
          "text": [
            "Training: 100%|██████████| 607/607 [00:07<00:00, 82.30it/s]\n"
          ]
        },
        {
          "output_type": "stream",
          "name": "stdout",
          "text": [
            "Epoch 6/100: Train Loss: 1.6648, Val Binary F1: 0.9624, Val Macro F1: 0.5004, Combined Score: 0.7314\n"
          ]
        },
        {
          "output_type": "stream",
          "name": "stderr",
          "text": [
            "Training: 100%|██████████| 607/607 [00:07<00:00, 80.69it/s]\n"
          ]
        },
        {
          "output_type": "stream",
          "name": "stdout",
          "text": [
            "Epoch 7/100: Train Loss: 1.6074, Val Binary F1: 0.9696, Val Macro F1: 0.5041, Combined Score: 0.7368\n"
          ]
        },
        {
          "output_type": "stream",
          "name": "stderr",
          "text": [
            "Training: 100%|██████████| 607/607 [00:07<00:00, 80.71it/s]\n"
          ]
        },
        {
          "output_type": "stream",
          "name": "stdout",
          "text": [
            "Epoch 8/100: Train Loss: 1.5656, Val Binary F1: 0.9614, Val Macro F1: 0.5262, Combined Score: 0.7438\n"
          ]
        },
        {
          "output_type": "stream",
          "name": "stderr",
          "text": [
            "Training: 100%|██████████| 607/607 [00:07<00:00, 80.78it/s]\n"
          ]
        },
        {
          "output_type": "stream",
          "name": "stdout",
          "text": [
            "Epoch 9/100: Train Loss: 1.5143, Val Binary F1: 0.9618, Val Macro F1: 0.5309, Combined Score: 0.7464\n"
          ]
        },
        {
          "output_type": "stream",
          "name": "stderr",
          "text": [
            "Training: 100%|██████████| 607/607 [00:07<00:00, 82.02it/s]\n"
          ]
        },
        {
          "output_type": "stream",
          "name": "stdout",
          "text": [
            "Epoch 10/100: Train Loss: 1.4816, Val Binary F1: 0.9680, Val Macro F1: 0.5367, Combined Score: 0.7524\n"
          ]
        },
        {
          "output_type": "stream",
          "name": "stderr",
          "text": [
            "Training: 100%|██████████| 607/607 [00:07<00:00, 81.46it/s]\n"
          ]
        },
        {
          "output_type": "stream",
          "name": "stdout",
          "text": [
            "Epoch 11/100: Train Loss: 1.4489, Val Binary F1: 0.9617, Val Macro F1: 0.5355, Combined Score: 0.7486\n"
          ]
        },
        {
          "output_type": "stream",
          "name": "stderr",
          "text": [
            "Training: 100%|██████████| 607/607 [00:07<00:00, 83.17it/s]\n"
          ]
        },
        {
          "output_type": "stream",
          "name": "stdout",
          "text": [
            "Epoch 12/100: Train Loss: 1.4190, Val Binary F1: 0.9657, Val Macro F1: 0.5509, Combined Score: 0.7583\n"
          ]
        },
        {
          "output_type": "stream",
          "name": "stderr",
          "text": [
            "Training: 100%|██████████| 607/607 [00:07<00:00, 81.49it/s]\n"
          ]
        },
        {
          "output_type": "stream",
          "name": "stdout",
          "text": [
            "Epoch 13/100: Train Loss: 1.3872, Val Binary F1: 0.9685, Val Macro F1: 0.5739, Combined Score: 0.7712\n"
          ]
        },
        {
          "output_type": "stream",
          "name": "stderr",
          "text": [
            "Training: 100%|██████████| 607/607 [00:07<00:00, 80.34it/s]\n"
          ]
        },
        {
          "output_type": "stream",
          "name": "stdout",
          "text": [
            "Epoch 14/100: Train Loss: 1.3519, Val Binary F1: 0.9748, Val Macro F1: 0.5611, Combined Score: 0.7680\n"
          ]
        },
        {
          "output_type": "stream",
          "name": "stderr",
          "text": [
            "Training: 100%|██████████| 607/607 [00:07<00:00, 81.05it/s]\n"
          ]
        },
        {
          "output_type": "stream",
          "name": "stdout",
          "text": [
            "Epoch 15/100: Train Loss: 1.3244, Val Binary F1: 0.9741, Val Macro F1: 0.5730, Combined Score: 0.7735\n"
          ]
        },
        {
          "output_type": "stream",
          "name": "stderr",
          "text": [
            "Training: 100%|██████████| 607/607 [00:07<00:00, 81.96it/s]\n"
          ]
        },
        {
          "output_type": "stream",
          "name": "stdout",
          "text": [
            "Epoch 16/100: Train Loss: 1.2992, Val Binary F1: 0.9702, Val Macro F1: 0.5621, Combined Score: 0.7661\n"
          ]
        },
        {
          "output_type": "stream",
          "name": "stderr",
          "text": [
            "Training: 100%|██████████| 607/607 [00:07<00:00, 83.24it/s]\n"
          ]
        },
        {
          "output_type": "stream",
          "name": "stdout",
          "text": [
            "Epoch 17/100: Train Loss: 1.2809, Val Binary F1: 0.9764, Val Macro F1: 0.5810, Combined Score: 0.7787\n"
          ]
        },
        {
          "output_type": "stream",
          "name": "stderr",
          "text": [
            "Training: 100%|██████████| 607/607 [00:07<00:00, 80.49it/s]\n"
          ]
        },
        {
          "output_type": "stream",
          "name": "stdout",
          "text": [
            "Epoch 18/100: Train Loss: 1.2566, Val Binary F1: 0.9725, Val Macro F1: 0.5839, Combined Score: 0.7782\n"
          ]
        },
        {
          "output_type": "stream",
          "name": "stderr",
          "text": [
            "Training: 100%|██████████| 607/607 [00:07<00:00, 79.48it/s]\n"
          ]
        },
        {
          "output_type": "stream",
          "name": "stdout",
          "text": [
            "Epoch 19/100: Train Loss: 1.2306, Val Binary F1: 0.9683, Val Macro F1: 0.5842, Combined Score: 0.7763\n"
          ]
        },
        {
          "output_type": "stream",
          "name": "stderr",
          "text": [
            "Training: 100%|██████████| 607/607 [00:07<00:00, 80.73it/s]\n"
          ]
        },
        {
          "output_type": "stream",
          "name": "stdout",
          "text": [
            "Epoch 20/100: Train Loss: 1.2115, Val Binary F1: 0.9713, Val Macro F1: 0.5708, Combined Score: 0.7710\n"
          ]
        },
        {
          "output_type": "stream",
          "name": "stderr",
          "text": [
            "Training: 100%|██████████| 607/607 [00:07<00:00, 83.41it/s]\n"
          ]
        },
        {
          "output_type": "stream",
          "name": "stdout",
          "text": [
            "Epoch 21/100: Train Loss: 1.1929, Val Binary F1: 0.9743, Val Macro F1: 0.5920, Combined Score: 0.7831\n"
          ]
        },
        {
          "output_type": "stream",
          "name": "stderr",
          "text": [
            "Training: 100%|██████████| 607/607 [00:07<00:00, 82.54it/s]\n"
          ]
        },
        {
          "output_type": "stream",
          "name": "stdout",
          "text": [
            "Epoch 22/100: Train Loss: 1.1687, Val Binary F1: 0.9759, Val Macro F1: 0.5771, Combined Score: 0.7765\n"
          ]
        },
        {
          "output_type": "stream",
          "name": "stderr",
          "text": [
            "Training: 100%|██████████| 607/607 [00:07<00:00, 82.42it/s]\n"
          ]
        },
        {
          "output_type": "stream",
          "name": "stdout",
          "text": [
            "Epoch 23/100: Train Loss: 1.1570, Val Binary F1: 0.9770, Val Macro F1: 0.5794, Combined Score: 0.7782\n"
          ]
        },
        {
          "output_type": "stream",
          "name": "stderr",
          "text": [
            "Training: 100%|██████████| 607/607 [00:07<00:00, 82.08it/s]\n"
          ]
        },
        {
          "output_type": "stream",
          "name": "stdout",
          "text": [
            "Epoch 24/100: Train Loss: 1.1214, Val Binary F1: 0.9774, Val Macro F1: 0.5753, Combined Score: 0.7764\n"
          ]
        },
        {
          "output_type": "stream",
          "name": "stderr",
          "text": [
            "Training: 100%|██████████| 607/607 [00:07<00:00, 81.17it/s]\n"
          ]
        },
        {
          "output_type": "stream",
          "name": "stdout",
          "text": [
            "Epoch 25/100: Train Loss: 1.1081, Val Binary F1: 0.9725, Val Macro F1: 0.5878, Combined Score: 0.7802\n"
          ]
        },
        {
          "output_type": "stream",
          "name": "stderr",
          "text": [
            "Training: 100%|██████████| 607/607 [00:07<00:00, 80.88it/s]\n"
          ]
        },
        {
          "output_type": "stream",
          "name": "stdout",
          "text": [
            "Epoch 26/100: Train Loss: 1.0937, Val Binary F1: 0.9744, Val Macro F1: 0.5693, Combined Score: 0.7719\n"
          ]
        },
        {
          "output_type": "stream",
          "name": "stderr",
          "text": [
            "Training: 100%|██████████| 607/607 [00:07<00:00, 81.32it/s]\n"
          ]
        },
        {
          "output_type": "stream",
          "name": "stdout",
          "text": [
            "Epoch 27/100: Train Loss: 1.0783, Val Binary F1: 0.9793, Val Macro F1: 0.5790, Combined Score: 0.7792\n"
          ]
        },
        {
          "output_type": "stream",
          "name": "stderr",
          "text": [
            "Training: 100%|██████████| 607/607 [00:07<00:00, 81.93it/s]\n"
          ]
        },
        {
          "output_type": "stream",
          "name": "stdout",
          "text": [
            "Epoch 28/100: Train Loss: 1.0554, Val Binary F1: 0.9768, Val Macro F1: 0.5840, Combined Score: 0.7804\n"
          ]
        },
        {
          "output_type": "stream",
          "name": "stderr",
          "text": [
            "Training: 100%|██████████| 607/607 [00:07<00:00, 81.69it/s]\n"
          ]
        },
        {
          "output_type": "stream",
          "name": "stdout",
          "text": [
            "Epoch 29/100: Train Loss: 1.0325, Val Binary F1: 0.9761, Val Macro F1: 0.5917, Combined Score: 0.7839\n"
          ]
        },
        {
          "output_type": "stream",
          "name": "stderr",
          "text": [
            "Training: 100%|██████████| 607/607 [00:07<00:00, 81.04it/s]\n"
          ]
        },
        {
          "output_type": "stream",
          "name": "stdout",
          "text": [
            "Epoch 30/100: Train Loss: 1.0278, Val Binary F1: 0.9774, Val Macro F1: 0.5938, Combined Score: 0.7856\n"
          ]
        },
        {
          "output_type": "stream",
          "name": "stderr",
          "text": [
            "Training: 100%|██████████| 607/607 [00:07<00:00, 82.93it/s]\n"
          ]
        },
        {
          "output_type": "stream",
          "name": "stdout",
          "text": [
            "Epoch 31/100: Train Loss: 1.0086, Val Binary F1: 0.9724, Val Macro F1: 0.5895, Combined Score: 0.7809\n"
          ]
        },
        {
          "output_type": "stream",
          "name": "stderr",
          "text": [
            "Training: 100%|██████████| 607/607 [00:07<00:00, 79.74it/s]\n"
          ]
        },
        {
          "output_type": "stream",
          "name": "stdout",
          "text": [
            "Epoch 32/100: Train Loss: 0.9901, Val Binary F1: 0.9787, Val Macro F1: 0.5849, Combined Score: 0.7818\n"
          ]
        },
        {
          "output_type": "stream",
          "name": "stderr",
          "text": [
            "Training: 100%|██████████| 607/607 [00:07<00:00, 81.89it/s]\n"
          ]
        },
        {
          "output_type": "stream",
          "name": "stdout",
          "text": [
            "Epoch 33/100: Train Loss: 0.9799, Val Binary F1: 0.9768, Val Macro F1: 0.5874, Combined Score: 0.7821\n"
          ]
        },
        {
          "output_type": "stream",
          "name": "stderr",
          "text": [
            "Training: 100%|██████████| 607/607 [00:07<00:00, 82.34it/s]\n"
          ]
        },
        {
          "output_type": "stream",
          "name": "stdout",
          "text": [
            "Epoch 34/100: Train Loss: 0.9699, Val Binary F1: 0.9788, Val Macro F1: 0.5935, Combined Score: 0.7862\n"
          ]
        },
        {
          "output_type": "stream",
          "name": "stderr",
          "text": [
            "Training: 100%|██████████| 607/607 [00:07<00:00, 81.39it/s]\n"
          ]
        },
        {
          "output_type": "stream",
          "name": "stdout",
          "text": [
            "Epoch 35/100: Train Loss: 0.9540, Val Binary F1: 0.9755, Val Macro F1: 0.5790, Combined Score: 0.7772\n"
          ]
        },
        {
          "output_type": "stream",
          "name": "stderr",
          "text": [
            "Training: 100%|██████████| 607/607 [00:07<00:00, 82.25it/s]\n"
          ]
        },
        {
          "output_type": "stream",
          "name": "stdout",
          "text": [
            "Epoch 36/100: Train Loss: 0.9417, Val Binary F1: 0.9759, Val Macro F1: 0.5864, Combined Score: 0.7811\n"
          ]
        },
        {
          "output_type": "stream",
          "name": "stderr",
          "text": [
            "Training: 100%|██████████| 607/607 [00:07<00:00, 80.33it/s]\n"
          ]
        },
        {
          "output_type": "stream",
          "name": "stdout",
          "text": [
            "Epoch 37/100: Train Loss: 0.9330, Val Binary F1: 0.9769, Val Macro F1: 0.5786, Combined Score: 0.7777\n"
          ]
        },
        {
          "output_type": "stream",
          "name": "stderr",
          "text": [
            "Training: 100%|██████████| 607/607 [00:07<00:00, 81.97it/s]\n"
          ]
        },
        {
          "output_type": "stream",
          "name": "stdout",
          "text": [
            "Epoch 38/100: Train Loss: 0.9183, Val Binary F1: 0.9738, Val Macro F1: 0.5860, Combined Score: 0.7799\n"
          ]
        },
        {
          "output_type": "stream",
          "name": "stderr",
          "text": [
            "Training: 100%|██████████| 607/607 [00:07<00:00, 83.47it/s]\n"
          ]
        },
        {
          "output_type": "stream",
          "name": "stdout",
          "text": [
            "Epoch 39/100: Train Loss: 0.9112, Val Binary F1: 0.9730, Val Macro F1: 0.5805, Combined Score: 0.7767\n"
          ]
        },
        {
          "output_type": "stream",
          "name": "stderr",
          "text": [
            "Training: 100%|██████████| 607/607 [00:07<00:00, 81.32it/s]\n"
          ]
        },
        {
          "output_type": "stream",
          "name": "stdout",
          "text": [
            "Epoch 40/100: Train Loss: 0.8993, Val Binary F1: 0.9736, Val Macro F1: 0.5761, Combined Score: 0.7749\n"
          ]
        },
        {
          "output_type": "stream",
          "name": "stderr",
          "text": [
            "Training: 100%|██████████| 607/607 [00:07<00:00, 78.50it/s]\n"
          ]
        },
        {
          "output_type": "stream",
          "name": "stdout",
          "text": [
            "Epoch 41/100: Train Loss: 0.8904, Val Binary F1: 0.9764, Val Macro F1: 0.5839, Combined Score: 0.7801\n"
          ]
        },
        {
          "output_type": "stream",
          "name": "stderr",
          "text": [
            "Training: 100%|██████████| 607/607 [00:07<00:00, 82.47it/s]\n"
          ]
        },
        {
          "output_type": "stream",
          "name": "stdout",
          "text": [
            "Epoch 42/100: Train Loss: 0.8831, Val Binary F1: 0.9764, Val Macro F1: 0.5809, Combined Score: 0.7787\n"
          ]
        },
        {
          "output_type": "stream",
          "name": "stderr",
          "text": [
            "Training: 100%|██████████| 607/607 [00:07<00:00, 83.38it/s]\n"
          ]
        },
        {
          "output_type": "stream",
          "name": "stdout",
          "text": [
            "Epoch 43/100: Train Loss: 0.8738, Val Binary F1: 0.9730, Val Macro F1: 0.5785, Combined Score: 0.7758\n"
          ]
        },
        {
          "output_type": "stream",
          "name": "stderr",
          "text": [
            "Training: 100%|██████████| 607/607 [00:07<00:00, 82.38it/s]\n"
          ]
        },
        {
          "output_type": "stream",
          "name": "stdout",
          "text": [
            "Epoch 44/100: Train Loss: 0.8652, Val Binary F1: 0.9798, Val Macro F1: 0.5753, Combined Score: 0.7775\n"
          ]
        },
        {
          "output_type": "stream",
          "name": "stderr",
          "text": [
            "Training: 100%|██████████| 607/607 [00:07<00:00, 81.73it/s]\n"
          ]
        },
        {
          "output_type": "stream",
          "name": "stdout",
          "text": [
            "Epoch 45/100: Train Loss: 0.8579, Val Binary F1: 0.9787, Val Macro F1: 0.5777, Combined Score: 0.7782\n"
          ]
        },
        {
          "output_type": "stream",
          "name": "stderr",
          "text": [
            "Training: 100%|██████████| 607/607 [00:07<00:00, 80.27it/s]\n"
          ]
        },
        {
          "output_type": "stream",
          "name": "stdout",
          "text": [
            "Epoch 46/100: Train Loss: 0.8528, Val Binary F1: 0.9760, Val Macro F1: 0.5791, Combined Score: 0.7776\n"
          ]
        },
        {
          "output_type": "stream",
          "name": "stderr",
          "text": [
            "Training: 100%|██████████| 607/607 [00:07<00:00, 80.18it/s]\n"
          ]
        },
        {
          "output_type": "stream",
          "name": "stdout",
          "text": [
            "Epoch 47/100: Train Loss: 0.8410, Val Binary F1: 0.9743, Val Macro F1: 0.5689, Combined Score: 0.7716\n"
          ]
        },
        {
          "output_type": "stream",
          "name": "stderr",
          "text": [
            "Training: 100%|██████████| 607/607 [00:07<00:00, 81.23it/s]\n"
          ]
        },
        {
          "output_type": "stream",
          "name": "stdout",
          "text": [
            "Epoch 48/100: Train Loss: 0.8419, Val Binary F1: 0.9754, Val Macro F1: 0.5914, Combined Score: 0.7834\n"
          ]
        },
        {
          "output_type": "stream",
          "name": "stderr",
          "text": [
            "Training: 100%|██████████| 607/607 [00:07<00:00, 81.09it/s]\n"
          ]
        },
        {
          "output_type": "stream",
          "name": "stdout",
          "text": [
            "Epoch 49/100: Train Loss: 0.8325, Val Binary F1: 0.9792, Val Macro F1: 0.5776, Combined Score: 0.7784\n",
            "Early stopping at epoch 49\n",
            "Fold 5 Best Score: 0.7862 (Binary: 0.9788, Macro: 0.5935)\n",
            "\n",
            "=== Simple Improved Model Cross-Validation Results ===\n",
            "Average Best Score (Binary+Macro)/2: 0.7817 ± 0.0111\n",
            "Average Best Binary F1: 0.9772\n",
            "Average Best Macro F1: 0.5862\n",
            "Individual Best Scores: ['0.7622', '0.7934', '0.7775', '0.7893', '0.7862']\n",
            "Individual Binary F1s: ['0.9654', '0.9799', '0.9772', '0.9848', '0.9788']\n",
            "Individual Macro F1s: ['0.5591', '0.6070', '0.5777', '0.5937', '0.5935']\n"
          ]
        }
      ]
    }
  ],
  "metadata": {
    "accelerator": "GPU",
    "colab": {
      "gpuType": "A100",
      "machine_shape": "hm",
      "provenance": []
    },
    "kernelspec": {
      "display_name": "Python 3",
      "name": "python3"
    },
    "language_info": {
      "name": "python"
    }
  },
  "nbformat": 4,
  "nbformat_minor": 0
}